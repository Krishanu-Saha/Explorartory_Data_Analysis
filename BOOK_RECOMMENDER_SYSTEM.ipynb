{
  "nbformat": 4,
  "nbformat_minor": 0,
  "metadata": {
    "colab": {
      "private_outputs": true,
      "provenance": [],
      "collapsed_sections": [
        "vncDsAP0Gaoa",
        "FJNUwmbgGyua",
        "w6K7xa23Elo4",
        "yQaldy8SH6Dl",
        "mDgbUHAGgjLW",
        "O_i_v8NEhb9l",
        "HhfV-JJviCcP",
        "Y3lxredqlCYt",
        "3RnN4peoiCZX",
        "x71ZqKXriCWQ",
        "7hBIi_osiCS2",
        "JlHwYmJAmNHm",
        "35m5QtbWiB9F",
        "PoPl-ycgm1ru",
        "H0kj-8xxnORC",
        "nA9Y7ga8ng1Z",
        "PBTbrJXOngz2",
        "u3PMJOP6ngxN",
        "dauF4eBmngu3",
        "bKJF3rekwFvQ",
        "MSa1f5Uengrz",
        "GF8Ens_Soomf",
        "0wOQAZs5pc--",
        "K5QZ13OEpz2H",
        "lQ7QKXXCp7Bj",
        "448CDAPjqfQr",
        "KSlN3yHqYklG",
        "t6dVpIINYklI",
        "ijmpgYnKYklI",
        "-JiQyfWJYklI",
        "EM7whBJCYoAo",
        "fge-S5ZAYoAp",
        "85gYPyotYoAp",
        "RoGjAbkUYoAp",
        "4Of9eVA-YrdM",
        "iky9q4vBYrdO",
        "F6T5p64dYrdO",
        "y-Ehk30pYrdP",
        "bamQiAODYuh1",
        "QHF8YVU7Yuh3",
        "GwzvFGzlYuh3",
        "qYpmQ266Yuh3",
        "OH-pJp9IphqM",
        "bbFf2-_FphqN",
        "_ouA3fa0phqN",
        "Seke61FWphqN",
        "PIIx-8_IphqN",
        "t27r6nlMphqO",
        "r2jJGEOYphqO",
        "b0JNsNcRphqO",
        "BZR9WyysphqO",
        "jj7wYXLtphqO",
        "eZrbJ2SmphqO",
        "rFu4xreNphqO",
        "YJ55k-q6phqO",
        "gCFgpxoyphqP",
        "OVtJsKN_phqQ",
        "lssrdh5qphqQ",
        "U2RJ9gkRphqQ",
        "1M8mcRywphqQ",
        "tgIPom80phqQ",
        "JMzcOPDDphqR",
        "x-EpHcCOp1ci",
        "X_VqEhTip1ck",
        "8zGJKyg5p1ck",
        "PVzmfK_Ep1ck",
        "n3dbpmDWp1ck",
        "ylSl6qgtp1ck",
        "ZWILFDl5p1ck",
        "M7G43BXep1ck",
        "Ag9LCva-p1cl",
        "E6MkPsBcp1cl",
        "2cELzS2fp1cl",
        "3MPXvC8up1cl",
        "NC_X3p0fY2L0",
        "UV0SzAkaZNRQ",
        "YPEH6qLeZNRQ",
        "q29F0dvdveiT",
        "EXh0U9oCveiU",
        "22aHeOlLveiV",
        "g-ATYxFrGrvw",
        "Yfr_Vlr8HBkt",
        "8yEUt7NnHlrM",
        "tEA2Xm5dHt1r",
        "I79__PHVH19G",
        "Ou-I18pAyIpj",
        "fF3858GYyt-u",
        "4_0_7-oCpUZd",
        "hwyV_J3ipUZe",
        "3yB-zSqbpUZe",
        "dEUvejAfpUZe",
        "Fd15vwWVpUZf",
        "bn_IUdTipZyH",
        "49K5P_iCpZyH",
        "Nff-vKELpZyI",
        "kLW572S8pZyI",
        "dWbDXHzopZyI",
        "yLjJCtPM0KBk",
        "xiyOF9F70UgQ",
        "7wuGOrhz0itI",
        "id1riN9m0vUs",
        "578E2V7j08f6",
        "89xtkJwZ18nB",
        "67NQN5KX2AMe",
        "Iwf50b-R2tYG",
        "GMQiZwjn3iu7",
        "WVIkgGqN3qsr",
        "XkPnILGE3zoT",
        "Hlsf0x5436Go",
        "mT9DMSJo4nBL",
        "c49ITxTc407N",
        "OeJFEK0N496M",
        "9ExmJH0g5HBk",
        "cJNqERVU536h",
        "k5UmGsbsOxih",
        "T0VqWOYE6DLQ",
        "qBMux9mC6MCf",
        "-oLEiFgy-5Pf",
        "C74aWNz2AliB",
        "2DejudWSA-a0",
        "pEMng2IbBLp7",
        "rAdphbQ9Bhjc",
        "TNVZ9zx19K6k",
        "nqoHp30x9hH9",
        "rMDnDkt2B6du",
        "yiiVWRdJDDil",
        "1UUpS68QDMuG",
        "kexQrXU-DjzY",
        "T5CmagL3EC8N",
        "BhH2vgX9EjGr",
        "qjKvONjwE8ra",
        "P1XJ9OREExlT",
        "VFOzZv6IFROw",
        "TIqpNgepFxVj",
        "VfCC591jGiD4",
        "OB4l2ZhMeS1U",
        "ArJBuiUVfxKd",
        "4qY1EAkEfxKe",
        "PiV4Ypx8fxKe",
        "TfvqoZmBfxKf",
        "dJ2tPlVmpsJ0",
        "JWYfwnehpsJ1",
        "-jK_YjpMpsJ2",
        "HAih1iBOpsJ2",
        "zVGeBEFhpsJ2",
        "bmKjuQ-FpsJ3",
        "Fze-IPXLpx6K",
        "7AN1z2sKpx6M",
        "9PIHJqyupx6M",
        "_-qAgymDpx6N",
        "Z-hykwinpx6N",
        "h_CCil-SKHpo",
        "cBFFvTBNJzUa",
        "HvGl1hHyA_VK",
        "EyNgTHvd2WFk",
        "KH5McJBi2d8v",
        "iW_Lq9qf2h6X",
        "-Kee-DAl2viO",
        "gCX9965dhzqZ",
        "gIfDvo9L0UH2"
      ],
      "include_colab_link": true
    },
    "kernelspec": {
      "name": "python3",
      "display_name": "Python 3"
    },
    "language_info": {
      "name": "python"
    }
  },
  "cells": [
    {
      "cell_type": "markdown",
      "metadata": {
        "id": "view-in-github",
        "colab_type": "text"
      },
      "source": [
        "<a href=\"https://colab.research.google.com/github/Krishanu-Saha/data-science/blob/main/BOOK_RECOMMENDER_SYSTEM.ipynb\" target=\"_parent\"><img src=\"https://colab.research.google.com/assets/colab-badge.svg\" alt=\"Open In Colab\"/></a>"
      ]
    },
    {
      "cell_type": "markdown",
      "source": [
        "# **Project Name**    -  BOOK_RECOMMENDER_SYSTEM\n",
        "\n"
      ],
      "metadata": {
        "id": "vncDsAP0Gaoa"
      }
    },
    {
      "cell_type": "markdown",
      "source": [
        "##### **Project Type**    - Unsupervised\n",
        "##### **Contribution**    - Individualby Krishanu Saha\n"
      ],
      "metadata": {
        "id": "beRrZCGUAJYm"
      }
    },
    {
      "cell_type": "markdown",
      "source": [
        "# **Project Summary -**"
      ],
      "metadata": {
        "id": "FJNUwmbgGyua"
      }
    },
    {
      "cell_type": "markdown",
      "source": [
        "Write the summary here within 500-600 words."
      ],
      "metadata": {
        "id": "F6v_1wHtG2nS"
      }
    },
    {
      "cell_type": "markdown",
      "source": [
        "# **GitHub Link -**"
      ],
      "metadata": {
        "id": "w6K7xa23Elo4"
      }
    },
    {
      "cell_type": "markdown",
      "source": [
        "Provide your GitHub Link here."
      ],
      "metadata": {
        "id": "h1o69JH3Eqqn"
      }
    },
    {
      "cell_type": "markdown",
      "source": [
        "# **Problem Statement**\n"
      ],
      "metadata": {
        "id": "yQaldy8SH6Dl"
      }
    },
    {
      "cell_type": "markdown",
      "source": [
        "During the last few decades, with the rise of Youtube, Amazon, Netflix, and many other such web services, recommender systems have taken more and more place in our lives. From e-commerce (suggest to buyers articles that could interest them) to online advertisement (suggest to users the right contents, matching their preferences), recommender systems are today unavoidable in our daily online journeys.\n",
        "\n",
        "In a very general way, recommender systems are algorithms aimed at suggesting relevant items to users (items being movies to watch, text to read, products to buy, or anything else depending on industries).\n",
        "\n",
        "Recommender systems are really critical in some industries as they can generate a huge amount of income when they are efficient or also be a way to stand out significantly from competitors. The main objective is to create a book recommendation system for users."
      ],
      "metadata": {
        "id": "DpeJGUA3kjGy"
      }
    },
    {
      "cell_type": "markdown",
      "source": [
        "# ***Let's Begin !***"
      ],
      "metadata": {
        "id": "O_i_v8NEhb9l"
      }
    },
    {
      "cell_type": "markdown",
      "source": [
        "## ***1. Know Your Data***"
      ],
      "metadata": {
        "id": "HhfV-JJviCcP"
      }
    },
    {
      "cell_type": "markdown",
      "source": [
        "### Import Libraries"
      ],
      "metadata": {
        "id": "Y3lxredqlCYt"
      }
    },
    {
      "cell_type": "code",
      "source": [
        "# Import Libraries\n",
        "import re\n",
        "import pickle\n",
        "import operator\n",
        "import numpy as np\n",
        "import pandas as pd\n",
        "import seaborn as sns\n",
        "import matplotlib.pyplot as plt\n",
        "from collections import Counter\n",
        "from scipy.sparse import csr_matrix\n",
        "from pandas.api.types import is_numeric_dtype\n",
        "from sklearn.neighbors import NearestNeighbors\n",
        "from sklearn.feature_extraction import DictVectorizer\n",
        "from sklearn.metrics.pairwise import cosine_similarity\n",
        "from sklearn.feature_extraction.text import TfidfVectorizer\n",
        "\n",
        "import warnings\n",
        "warnings.filterwarnings(\"ignore\")"
      ],
      "metadata": {
        "id": "M8Vqi-pPk-HR"
      },
      "execution_count": null,
      "outputs": []
    },
    {
      "cell_type": "code",
      "source": [
        "from google.colab import drive\n",
        "drive.mount('/content/drive')"
      ],
      "metadata": {
        "id": "SkRBcVX9IfLR"
      },
      "execution_count": null,
      "outputs": []
    },
    {
      "cell_type": "markdown",
      "source": [
        "### Dataset Loading"
      ],
      "metadata": {
        "id": "3RnN4peoiCZX"
      }
    },
    {
      "cell_type": "code",
      "source": [
        "# Load Dataset\n",
        "#User Dataset\n",
        "users_df = pd.read_csv('/content/drive/MyDrive/Almabetter /project/UNSUPERVISE ML/Users.csv')\n",
        "\n",
        "#Books Dataset\n",
        "books_df = pd.read_csv('/content/drive/MyDrive/Almabetter /project/UNSUPERVISE ML/Books.csv')\n",
        "\n",
        "#Ratings Dataset\n",
        "ratings_df = pd.read_csv('/content/drive/MyDrive/Almabetter /project/UNSUPERVISE ML/Ratings.csv')\n"
      ],
      "metadata": {
        "id": "4CkvbW_SlZ_R"
      },
      "execution_count": null,
      "outputs": []
    },
    {
      "cell_type": "markdown",
      "source": [
        "### Dataset First View"
      ],
      "metadata": {
        "id": "x71ZqKXriCWQ"
      }
    },
    {
      "cell_type": "code",
      "source": [
        "# Dataset First Look\n",
        "#User Dataset\n",
        "users_df.head()"
      ],
      "metadata": {
        "id": "LWNFOSvLl09H"
      },
      "execution_count": null,
      "outputs": []
    },
    {
      "cell_type": "code",
      "source": [
        "#Books Dataset\n",
        "books_df.head()"
      ],
      "metadata": {
        "id": "7-ZW7xbkJkcW"
      },
      "execution_count": null,
      "outputs": []
    },
    {
      "cell_type": "code",
      "source": [
        "#Ratings Dataset\n",
        "ratings_df.head()"
      ],
      "metadata": {
        "id": "4wrbex2SJz8q"
      },
      "execution_count": null,
      "outputs": []
    },
    {
      "cell_type": "markdown",
      "source": [
        "### Dataset Rows & Columns count"
      ],
      "metadata": {
        "id": "7hBIi_osiCS2"
      }
    },
    {
      "cell_type": "code",
      "source": [
        "# Dataset Rows & Columns count"
      ],
      "metadata": {
        "id": "Kllu7SJgmLij"
      },
      "execution_count": null,
      "outputs": []
    },
    {
      "cell_type": "code",
      "source": [
        "#Users_df\n",
        "users_df.shape"
      ],
      "metadata": {
        "id": "sC01f6Z6KK2j"
      },
      "execution_count": null,
      "outputs": []
    },
    {
      "cell_type": "markdown",
      "source": [
        "The shape of Users dataset is (278858, 3)"
      ],
      "metadata": {
        "id": "bCreG0MpKV-z"
      }
    },
    {
      "cell_type": "code",
      "source": [
        "#Books Dataset\n",
        "books_df.shape"
      ],
      "metadata": {
        "id": "43QT94DSKegF"
      },
      "execution_count": null,
      "outputs": []
    },
    {
      "cell_type": "markdown",
      "source": [
        "The shape of Books dataset is (271360, 8)"
      ],
      "metadata": {
        "id": "wYOw5bcOKknW"
      }
    },
    {
      "cell_type": "code",
      "source": [
        "#Ratings Dataset\n",
        "ratings_df.shape"
      ],
      "metadata": {
        "id": "t30PanacKtVJ"
      },
      "execution_count": null,
      "outputs": []
    },
    {
      "cell_type": "markdown",
      "source": [
        "The shape of Ratings Dataset is (1149780, 3)"
      ],
      "metadata": {
        "id": "Hphotmp4K2Zp"
      }
    },
    {
      "cell_type": "markdown",
      "source": [
        "### Dataset Information"
      ],
      "metadata": {
        "id": "JlHwYmJAmNHm"
      }
    },
    {
      "cell_type": "code",
      "source": [
        "# Dataset Info"
      ],
      "metadata": {
        "id": "e9hRXRi6meOf"
      },
      "execution_count": null,
      "outputs": []
    },
    {
      "cell_type": "code",
      "source": [
        "#Users Dataset\n",
        "users_df.info()"
      ],
      "metadata": {
        "id": "3qMN7fsWLA_R"
      },
      "execution_count": null,
      "outputs": []
    },
    {
      "cell_type": "code",
      "source": [
        "#Books Dataset\n",
        "books_df.info()"
      ],
      "metadata": {
        "id": "GjMveI75LOkv"
      },
      "execution_count": null,
      "outputs": []
    },
    {
      "cell_type": "code",
      "source": [
        "#Ratings Dataset\n",
        "ratings_df.info()"
      ],
      "metadata": {
        "id": "R_WC6po7LXoO"
      },
      "execution_count": null,
      "outputs": []
    },
    {
      "cell_type": "markdown",
      "source": [
        "#### Duplicate Values"
      ],
      "metadata": {
        "id": "35m5QtbWiB9F"
      }
    },
    {
      "cell_type": "code",
      "source": [
        "# Dataset Duplicate Value Count"
      ],
      "metadata": {
        "id": "1sLdpKYkmox0"
      },
      "execution_count": null,
      "outputs": []
    },
    {
      "cell_type": "code",
      "source": [
        "#Users Dataset\n",
        "len(users_df[users_df.duplicated()])"
      ],
      "metadata": {
        "id": "dvrUKmo2LhV9"
      },
      "execution_count": null,
      "outputs": []
    },
    {
      "cell_type": "markdown",
      "source": [
        "Duplicate Data counts in Users Df if 0"
      ],
      "metadata": {
        "id": "7lULwbuDMEXj"
      }
    },
    {
      "cell_type": "code",
      "source": [
        "#Users Dataset\n",
        "len(books_df[books_df.duplicated()])"
      ],
      "metadata": {
        "id": "tSFRYcuAMAns"
      },
      "execution_count": null,
      "outputs": []
    },
    {
      "cell_type": "markdown",
      "source": [
        "Duplicate Data counts in Books Df if 0"
      ],
      "metadata": {
        "id": "dUQIgEuRMVDo"
      }
    },
    {
      "cell_type": "code",
      "source": [
        "#Users Dataset\n",
        "len(ratings_df[ratings_df.duplicated()])"
      ],
      "metadata": {
        "id": "Wm2WcHxeMDCZ"
      },
      "execution_count": null,
      "outputs": []
    },
    {
      "cell_type": "markdown",
      "source": [
        "Duplicate Data counts in Ratings Df if 0"
      ],
      "metadata": {
        "id": "auDGcWTRMYIU"
      }
    },
    {
      "cell_type": "markdown",
      "source": [
        "#### Missing Values/Null Values"
      ],
      "metadata": {
        "id": "PoPl-ycgm1ru"
      }
    },
    {
      "cell_type": "code",
      "source": [
        "pip install missingno"
      ],
      "metadata": {
        "id": "xLx4BvIKM_Kn"
      },
      "execution_count": null,
      "outputs": []
    },
    {
      "cell_type": "code",
      "source": [
        "import missingno as msno"
      ],
      "metadata": {
        "id": "FvxQHPDbNBy5"
      },
      "execution_count": null,
      "outputs": []
    },
    {
      "cell_type": "code",
      "source": [
        "# Missing Values/Null Values Count"
      ],
      "metadata": {
        "id": "GgHWkxvamxVg"
      },
      "execution_count": null,
      "outputs": []
    },
    {
      "cell_type": "code",
      "source": [
        "#Users Dataset\n",
        "users_df.isnull().sum()"
      ],
      "metadata": {
        "id": "1fa6nDiSNL2q"
      },
      "execution_count": null,
      "outputs": []
    },
    {
      "cell_type": "code",
      "source": [
        "# Visualizing the missing values\n",
        "msno.matrix(users_df)"
      ],
      "metadata": {
        "id": "3q5wnI3om9sJ"
      },
      "execution_count": null,
      "outputs": []
    },
    {
      "cell_type": "code",
      "source": [
        "#Books Dataset\n",
        "books_df.isnull().sum()"
      ],
      "metadata": {
        "id": "Skr9QrEJNzxz"
      },
      "execution_count": null,
      "outputs": []
    },
    {
      "cell_type": "code",
      "source": [
        "# Visualizing the missing values\n",
        "msno.matrix(books_df)"
      ],
      "metadata": {
        "id": "PDEaGUTONoDS"
      },
      "execution_count": null,
      "outputs": []
    },
    {
      "cell_type": "code",
      "source": [
        "#Ratings Dataset\n",
        "ratings_df.isnull().sum()"
      ],
      "metadata": {
        "id": "sNP5lRgYOI-Y"
      },
      "execution_count": null,
      "outputs": []
    },
    {
      "cell_type": "markdown",
      "source": [
        "The shape of Users dataset is (278858, 3)The shape of Books dataset is (271360, 8)The shape of Ratings Dataset is (1149780, 3)Duplicate Data counts in Users Df if 0 Duplicate Data counts in Books Df if 0 Duplicate Data counts in Ratings Df if 0\n",
        "\n",
        "User-ID          0\n",
        "Location         0\n",
        "Age         110762\n",
        "dtype: int64\n",
        "\n",
        "ISBN                   0\n",
        "Book-Title             0\n",
        "Book-Author            1\n",
        "Year-Of-Publication    0\n",
        "Publisher              2\n",
        "Image-URL-S            0\n",
        "Image-URL-M            0\n",
        "Image-URL-L            3\n",
        "dtype: int64\n",
        "\n",
        "User-ID        0\n",
        "ISBN           0\n",
        "Book-Rating    0\n",
        "dtype: int64"
      ],
      "metadata": {
        "id": "w8ENzWjWWmwR"
      }
    },
    {
      "cell_type": "code",
      "source": [
        "# Visualizing the missing values\n",
        "msno.matrix(ratings_df)"
      ],
      "metadata": {
        "id": "0BFT0_xDNoXI"
      },
      "execution_count": null,
      "outputs": []
    },
    {
      "cell_type": "markdown",
      "source": [
        "### What did you know about your dataset?"
      ],
      "metadata": {
        "id": "H0kj-8xxnORC"
      }
    },
    {
      "cell_type": "markdown",
      "source": [
        "The Users dataset contains 278,858 rows and 3 columns, the Books dataset contains 271,360 rows and 8 columns, and the Ratings dataset contains 1,149,780 rows and 3 columns. The duplicate data counts in all three datasets are zero, indicating that there are no duplicate values present in the datasets. However, the Users dataset has 110,762 missing values in the Age column. The Books dataset has missing values in Book-Author, Publisher, and Image-URL-L columns, while the Ratings dataset has no missing values. The datasets are ready for further analysis, and the missing values in the Age, Book-Author, Publisher, and Image-URL-L columns need to be addressed to make the datasets more informative."
      ],
      "metadata": {
        "id": "gfoNAAC-nUe_"
      }
    },
    {
      "cell_type": "markdown",
      "source": [
        "## ***2. Understanding Your Variables***"
      ],
      "metadata": {
        "id": "nA9Y7ga8ng1Z"
      }
    },
    {
      "cell_type": "code",
      "source": [
        "# Dataset Columns"
      ],
      "metadata": {
        "id": "j7xfkqrt5Ag5"
      },
      "execution_count": null,
      "outputs": []
    },
    {
      "cell_type": "code",
      "source": [
        "users_df.columns"
      ],
      "metadata": {
        "id": "sZdUieK2POMi"
      },
      "execution_count": null,
      "outputs": []
    },
    {
      "cell_type": "code",
      "source": [
        "books_df.columns"
      ],
      "metadata": {
        "id": "syF6NVOWPSUx"
      },
      "execution_count": null,
      "outputs": []
    },
    {
      "cell_type": "code",
      "source": [
        "ratings_df.columns"
      ],
      "metadata": {
        "id": "DDNW_pLoPXIq"
      },
      "execution_count": null,
      "outputs": []
    },
    {
      "cell_type": "code",
      "source": [
        "# Dataset Describe\n"
      ],
      "metadata": {
        "id": "DnOaZdaE5Q5t"
      },
      "execution_count": null,
      "outputs": []
    },
    {
      "cell_type": "code",
      "source": [
        "users_df.describe()"
      ],
      "metadata": {
        "id": "wnusrr6sPfrt"
      },
      "execution_count": null,
      "outputs": []
    },
    {
      "cell_type": "code",
      "source": [
        "books_df.describe()"
      ],
      "metadata": {
        "id": "R1r2O1eoPojP"
      },
      "execution_count": null,
      "outputs": []
    },
    {
      "cell_type": "code",
      "source": [
        "ratings_df.describe()"
      ],
      "metadata": {
        "id": "M--D0APVQEAx"
      },
      "execution_count": null,
      "outputs": []
    },
    {
      "cell_type": "markdown",
      "source": [
        "### Variables Description "
      ],
      "metadata": {
        "id": "PBTbrJXOngz2"
      }
    },
    {
      "cell_type": "markdown",
      "source": [
        "Answer Here"
      ],
      "metadata": {
        "id": "aJV4KIxSnxay"
      }
    },
    {
      "cell_type": "markdown",
      "source": [
        "### Check Unique Values for each variable."
      ],
      "metadata": {
        "id": "u3PMJOP6ngxN"
      }
    },
    {
      "cell_type": "code",
      "source": [
        "# Check Unique Values for each variable."
      ],
      "metadata": {
        "id": "zms12Yq5n-jE"
      },
      "execution_count": null,
      "outputs": []
    },
    {
      "cell_type": "code",
      "source": [
        "users_df.nunique()"
      ],
      "metadata": {
        "id": "hQP0mFZwQne_"
      },
      "execution_count": null,
      "outputs": []
    },
    {
      "cell_type": "code",
      "source": [
        "books_df.nunique()"
      ],
      "metadata": {
        "id": "aTNGqeVUQtAt"
      },
      "execution_count": null,
      "outputs": []
    },
    {
      "cell_type": "code",
      "source": [
        "ratings_df.nunique()"
      ],
      "metadata": {
        "id": "5M-poNVnQyNR"
      },
      "execution_count": null,
      "outputs": []
    },
    {
      "cell_type": "markdown",
      "source": [
        "## 3. ***Data Cleaning and Pre-Processing***"
      ],
      "metadata": {
        "id": "dauF4eBmngu3"
      }
    },
    {
      "cell_type": "markdown",
      "source": [
        "### Data Wrangling Code"
      ],
      "metadata": {
        "id": "bKJF3rekwFvQ"
      }
    },
    {
      "cell_type": "code",
      "source": [
        "# Write your code to make your dataset analysis ready."
      ],
      "metadata": {
        "id": "wk-9a2fpoLcV"
      },
      "execution_count": null,
      "outputs": []
    },
    {
      "cell_type": "markdown",
      "source": [
        "**BOOKS DATASET**"
      ],
      "metadata": {
        "id": "ZlfYNuQskAby"
      }
    },
    {
      "cell_type": "code",
      "source": [
        "# Drop the unwanted columns Image-URL-S, Image-URL-M, and Image-URL-L\n",
        "books_df.drop([\"Image-URL-S\", \"Image-URL-M\", \"Image-URL-L\"], axis=1, inplace=True)"
      ],
      "metadata": {
        "id": "fsZhycrpYOBa"
      },
      "execution_count": null,
      "outputs": []
    },
    {
      "cell_type": "code",
      "source": [
        "books_df.loc[books_df['Book-Author'].isnull(),:]"
      ],
      "metadata": {
        "id": "KnMcuerSZfjY"
      },
      "execution_count": null,
      "outputs": []
    },
    {
      "cell_type": "code",
      "source": [
        "mode_author = books_df['Book-Author'].mode()[0]\n",
        "books_df['Book-Author'].fillna(mode_author,inplace = True)"
      ],
      "metadata": {
        "id": "tya9kn-zajC6"
      },
      "execution_count": null,
      "outputs": []
    },
    {
      "cell_type": "code",
      "source": [
        "books_df.loc[books_df['Publisher'].isnull(),:]"
      ],
      "metadata": {
        "id": "1KEwnx4mZ9Ee"
      },
      "execution_count": null,
      "outputs": []
    },
    {
      "cell_type": "code",
      "source": [
        "## Checking for null values\n",
        "books_df.isnull().sum() "
      ],
      "metadata": {
        "id": "V73T11LpZawI"
      },
      "execution_count": null,
      "outputs": []
    },
    {
      "cell_type": "code",
      "source": [
        "mode_publisher = books_df['Publisher'].mode()[0]\n",
        "books_df['Publisher'].fillna(mode_publisher,inplace = True)"
      ],
      "metadata": {
        "id": "s04JzLZ_a-y5"
      },
      "execution_count": null,
      "outputs": []
    },
    {
      "cell_type": "code",
      "source": [
        "## Checking for column Year-of-publication\n",
        "books_df['Year-Of-Publication'].unique()"
      ],
      "metadata": {
        "id": "ovJl_lhVcP5L"
      },
      "execution_count": null,
      "outputs": []
    },
    {
      "cell_type": "code",
      "source": [
        "books_df.loc[books_df['Year-Of-Publication'] == 'DK Publishing Inc',:]"
      ],
      "metadata": {
        "id": "lTW8MkCRcgJC"
      },
      "execution_count": null,
      "outputs": []
    },
    {
      "cell_type": "code",
      "source": [
        "books_df.at[209538 ,'Publisher'] = 'DK Publishing Inc'\n",
        "books_df.at[209538 ,'Year-Of-Publication'] = 2000\n",
        "books_df.at[209538 ,'Book-Title'] = 'DK Readers: Creating the X-Men, How It All Began (Level 4: Proficient Readers)'\n",
        "books_df.at[209538 ,'Book-Author'] = 'Michael Teitelbaum'"
      ],
      "metadata": {
        "id": "M4iRYImccnuK"
      },
      "execution_count": null,
      "outputs": []
    },
    {
      "cell_type": "code",
      "source": [
        "books_df.at[221678 ,'Publisher'] = 'DK Publishing Inc'\n",
        "books_df.at[221678 ,'Year-Of-Publication'] = 2000\n",
        "books_df.at[209538 ,'Book-Title'] = 'DK Readers: Creating the X-Men, How Comic Books Come to Life (Level 4: Proficient Readers)'\n",
        "books_df.at[209538 ,'Book-Author'] = 'James Buckley'"
      ],
      "metadata": {
        "id": "pNtSrd-_dLRC"
      },
      "execution_count": null,
      "outputs": []
    },
    {
      "cell_type": "code",
      "source": [
        "books_df.loc[books_df['Year-Of-Publication'] == 'Gallimard',:]"
      ],
      "metadata": {
        "id": "NMs31--mdVVj"
      },
      "execution_count": null,
      "outputs": []
    },
    {
      "cell_type": "code",
      "source": [
        "books_df.at[220731 ,'Publisher'] = 'Gallimard'\n",
        "books_df.at[220731 ,'Year-Of-Publication'] = '2003'\n",
        "books_df.at[209538 ,'Book-Title'] = 'Peuple du ciel - Suivi de Les bergers '\n",
        "books_df.at[209538 ,'Book-Author'] = 'Jean-Marie Gustave Le ClÃ?Â©zio'"
      ],
      "metadata": {
        "id": "eRtIRUG-dfuI"
      },
      "execution_count": null,
      "outputs": []
    },
    {
      "cell_type": "code",
      "source": [
        "# Converting year of publication to int type from object\n",
        "books_df['Year-Of-Publication'] = books_df['Year-Of-Publication'].astype(int)"
      ],
      "metadata": {
        "id": "yar8ht_JdmXo"
      },
      "execution_count": null,
      "outputs": []
    },
    {
      "cell_type": "code",
      "source": [
        "books_df.loc[(books_df['Year-Of-Publication'] < 1900) | (books_df['Year-Of-Publication'] > 2023), 'Year-Of-Publication'] = np.nan\n"
      ],
      "metadata": {
        "id": "M7D_8JdifET4"
      },
      "execution_count": null,
      "outputs": []
    },
    {
      "cell_type": "code",
      "source": [
        "mode_year = books_df['Year-Of-Publication'].mode()[0]  # Get the mode year\n",
        "books_df['Year-Of-Publication'].fillna(mode_year, inplace=True)  # Impute missing values with the mode"
      ],
      "metadata": {
        "id": "RHlaA73pfU4U"
      },
      "execution_count": null,
      "outputs": []
    },
    {
      "cell_type": "code",
      "source": [
        "books_df.info()"
      ],
      "metadata": {
        "id": "DkOUy9xafej7"
      },
      "execution_count": null,
      "outputs": []
    },
    {
      "cell_type": "markdown",
      "source": [
        "**USERS DATASET**"
      ],
      "metadata": {
        "id": "T_bbv-RAbtLk"
      }
    },
    {
      "cell_type": "code",
      "source": [
        "# Check for missing values in the Age column\n",
        "print(users_df[\"Age\"].isnull().sum())\n"
      ],
      "metadata": {
        "id": "M64GiJW2Y7MY"
      },
      "execution_count": null,
      "outputs": []
    },
    {
      "cell_type": "markdown",
      "source": [
        "The Age column has 11072 null values."
      ],
      "metadata": {
        "id": "CzxE-mDcj1GX"
      }
    },
    {
      "cell_type": "code",
      "source": [
        "# Fill missing values in the Age column with the median value\n",
        "median_age = users_df[\"Age\"].median()\n",
        "users_df[\"Age\"].fillna(median_age, inplace=True)\n"
      ],
      "metadata": {
        "id": "PMUH9FDmju9l"
      },
      "execution_count": null,
      "outputs": []
    },
    {
      "cell_type": "code",
      "source": [
        "# Check again for missing values in the Age column\n",
        "print(users_df[\"Age\"].isnull().sum())"
      ],
      "metadata": {
        "id": "lf3PEsm0jyIU"
      },
      "execution_count": null,
      "outputs": []
    },
    {
      "cell_type": "code",
      "source": [
        "age_lower, age_upper = np.percentile(users_df['Age'], [1, 99])  # Get the 1st and 99th percentiles of Age\n",
        "users_df['Age'] = users_df['Age'].clip(lower=age_lower, upper=age_upper)  # Winsorize the Age column"
      ],
      "metadata": {
        "id": "jo1DJemzgpwF"
      },
      "execution_count": null,
      "outputs": []
    },
    {
      "cell_type": "code",
      "source": [
        "users_df.head()"
      ],
      "metadata": {
        "id": "cC2CcZYYhJiT"
      },
      "execution_count": null,
      "outputs": []
    },
    {
      "cell_type": "code",
      "source": [
        "# Replace missing values with empty string\n",
        "users_df['Location'] = users_df['Location'].fillna('')\n",
        "\n",
        "# Split 'Location' column into separate columns\n",
        "users_df[['City', 'State', 'Country']] = users_df['Location'].str.split(', ', n=2, expand=True)"
      ],
      "metadata": {
        "id": "CfDOkqCDh3z-"
      },
      "execution_count": null,
      "outputs": []
    },
    {
      "cell_type": "code",
      "source": [
        "users_df.drop('Location', axis=1, inplace=True)\n"
      ],
      "metadata": {
        "id": "6FU2e1O7i__M"
      },
      "execution_count": null,
      "outputs": []
    },
    {
      "cell_type": "code",
      "source": [
        "duplicate_rows = users_df.duplicated()\n",
        "print('Number of duplicate rows = %d' % duplicate_rows.sum())"
      ],
      "metadata": {
        "id": "cezOiim9jIh-"
      },
      "execution_count": null,
      "outputs": []
    },
    {
      "cell_type": "code",
      "source": [
        "users_df.head()"
      ],
      "metadata": {
        "id": "HExNauSZik70"
      },
      "execution_count": null,
      "outputs": []
    },
    {
      "cell_type": "markdown",
      "source": [
        "**RATINGS DATASET**"
      ],
      "metadata": {
        "id": "ymMuNWpQnelI"
      }
    },
    {
      "cell_type": "code",
      "source": [
        "ratings_df.info()"
      ],
      "metadata": {
        "id": "XbkusOcnotWC"
      },
      "execution_count": null,
      "outputs": []
    },
    {
      "cell_type": "code",
      "source": [
        "import re\n"
      ],
      "metadata": {
        "id": "NiDbYDfcnpCA"
      },
      "execution_count": null,
      "outputs": []
    },
    {
      "cell_type": "code",
      "source": [
        "# extract ISBNs from books dataset\n",
        "book_ISBN = books_df['ISBN'].str.extract('(\\d{10}|\\d{13})', expand=False)\n",
        "\n",
        "# identify ratings with ISBNs not matching the pattern in books dataset\n",
        "non_matching_ISBN = ~ratings_df['ISBN'].str.match('^(\\d{10}|\\d{13})$')\n",
        "\n",
        "# get the unique non-matching ISBNs\n",
        "unique_non_matching_ISBN = ratings_df.loc[non_matching_ISBN, 'ISBN'].unique()\n",
        "\n",
        "# create a mapping of non-matching ISBNs to their corrected versions\n",
        "corrections = dict(zip(unique_non_matching_ISBN, book_ISBN[book_ISBN.isin(unique_non_matching_ISBN)]))\n",
        "\n",
        "# apply the corrections to the ratings dataset\n",
        "ratings_df['ISBN'].replace(corrections, inplace=True)\n",
        "## Uppercasing all alphabets in ISBN\n",
        "ratings_df['ISBN'] = ratings_df['ISBN'].str.upper()\n"
      ],
      "metadata": {
        "id": "iW-T35hSqqPB"
      },
      "execution_count": null,
      "outputs": []
    },
    {
      "cell_type": "code",
      "source": [
        "## Uppercasing all alphabets in ISBN\n",
        "ratings_df['ISBN'] = ratings_df['ISBN'].str.upper()"
      ],
      "metadata": {
        "id": "cbOJi_KCrBX7"
      },
      "execution_count": null,
      "outputs": []
    },
    {
      "cell_type": "code",
      "source": [
        "ratings_df.head()"
      ],
      "metadata": {
        "id": "e0KaxIb9rRIY"
      },
      "execution_count": null,
      "outputs": []
    },
    {
      "cell_type": "markdown",
      "source": [
        "**MERGING THE DATASETS : BOOKS_DF,USERS_DF AND RATINGS_DF**"
      ],
      "metadata": {
        "id": "EynvZPVsrm5T"
      }
    },
    {
      "cell_type": "code",
      "source": [
        "df= pd.merge(books_df, ratings_df, on='ISBN', how='inner')\n",
        "df = pd.merge(df, users_df, on='User-ID', how='inner')"
      ],
      "metadata": {
        "id": "r5XNmtoZr1V9"
      },
      "execution_count": null,
      "outputs": []
    },
    {
      "cell_type": "markdown",
      "source": [
        "### What all manipulations have you done and insights you found?"
      ],
      "metadata": {
        "id": "MSa1f5Uengrz"
      }
    },
    {
      "cell_type": "markdown",
      "source": [
        "Here are the manipulations and insights found:\n",
        "\n",
        "Drop unwanted columns: The columns \"Image-URL-S\", \"Image-URL-M\", and \"Image-URL-L\" have been dropped from the books_df dataset.\n",
        "\n",
        "Fill missing values: The missing values in the \"Book-Author\" and \"Publisher\" columns in the books_df dataset have been filled with the mode value.\n",
        "\n",
        "Fix data errors: There were some errors in the \"Year-Of-Publication\" column of the books_df dataset. Some values were not integers, and some values were outside the valid range of years. These errors were fixed by converting the column to an integer type and imputing missing values with the mode. The values outside the valid range were also imputed with missing values.\n",
        "\n",
        "Handle missing values: The missing values in the \"Age\" column of the users_df dataset were filled with the median value. The \"Location\" column was also replaced with an empty string.\n",
        "\n",
        "Split column: The \"Location\" column in the users_df dataset was split into three columns: \"City\", \"State\", and \"Country\".\n",
        "\n",
        "Remove duplicates: Duplicate rows were removed from the users_df dataset.\n",
        "\n",
        "Data correction: The ISBN values in the ratings_df dataset were checked for validity against the ISBN values in the books_df dataset. Non-matching ISBNs were corrected using a mapping of non-matching ISBNs to their corrected versions.\n",
        "\n",
        "Merge datasets: The cleaned and corrected books_df, ratings_df, and users_df datasets were merged into a single dataframe \"df\" using inner joins.\n",
        "\n",
        "Overall, these manipulations aim to clean and preprocess the data, handle missing values and outliers, and correct errors and inconsistencies in the data to prepare it for further analysis."
      ],
      "metadata": {
        "id": "LbyXE7I1olp8"
      }
    },
    {
      "cell_type": "markdown",
      "source": [
        "## ***4. Data Vizualization, Storytelling & Experimenting with charts : Understand the relationships between variables***"
      ],
      "metadata": {
        "id": "GF8Ens_Soomf"
      }
    },
    {
      "cell_type": "code",
      "source": [
        "df.columns"
      ],
      "metadata": {
        "id": "oGjcuNyr3vr1"
      },
      "execution_count": null,
      "outputs": []
    },
    {
      "cell_type": "code",
      "source": [
        "df.head()"
      ],
      "metadata": {
        "id": "CpW6VqNZ73pu"
      },
      "execution_count": null,
      "outputs": []
    },
    {
      "cell_type": "markdown",
      "source": [
        "**The distribution of book ratings in the dataset**"
      ],
      "metadata": {
        "id": "POfPJvFV7E4w"
      }
    },
    {
      "cell_type": "code",
      "source": [
        "# Calculate the average rating for books in the dataset\n",
        "avg_rating = df['Book-Rating'].mean()\n",
        "\n",
        "# Plot the distribution of book ratings\n",
        "plt.hist(df['Book-Rating'], bins=10)\n",
        "plt.title('Distribution of Book Ratings')\n",
        "plt.xlabel('Rating')\n",
        "plt.ylabel('Number of Books')\n",
        "plt.show()\n",
        "\n",
        "# Print the average rating for books in the dataset\n",
        "print('Average rating: ', avg_rating)"
      ],
      "metadata": {
        "id": "t5K6Clr63VRa"
      },
      "execution_count": null,
      "outputs": []
    },
    {
      "cell_type": "markdown",
      "source": [
        "**INSIGHTS** "
      ],
      "metadata": {
        "id": "8StJYuRfKem7"
      }
    },
    {
      "cell_type": "markdown",
      "source": [
        "We can observe from the graph that a huge portion of number of books has not been rated.\n",
        "\n",
        "The count of books which has been rated 10 is highest in number."
      ],
      "metadata": {
        "id": "eXENUQxYKmKy"
      }
    },
    {
      "cell_type": "markdown",
      "source": [
        "**The most popular books in the dataset based on the number of ratings**"
      ],
      "metadata": {
        "id": "8OB4w_217TUB"
      }
    },
    {
      "cell_type": "code",
      "source": [
        "# Create a DataFrame with the number of ratings for each book\n",
        "book_ratings_count = pd.DataFrame(df.groupby(['ISBN', 'Book-Title'])['Book-Rating'].count())\n",
        "\n",
        "# Sort the books by the number of ratings in descending order\n",
        "book_ratings_count.sort_values('Book-Rating', ascending=False, inplace=True)\n",
        "\n",
        "# Print the top 10 most popular books\n",
        "print(book_ratings_count.head(10))\n"
      ],
      "metadata": {
        "id": "fkKec7br4K8-"
      },
      "execution_count": null,
      "outputs": []
    },
    {
      "cell_type": "markdown",
      "source": [
        "Top 10 most popular books:\n",
        "\n",
        "Wild Animus                                               \n",
        "The Lovely Bones: A Novel                                  \n",
        "The Da Vinci Code                                          \n",
        "Divine Secrets of the Ya-Ya Sisterhood: A Novel             \n",
        "The Red Tent (Bestselling Backlist)                         \n",
        "A Painted House                                             \n",
        "Snow Falling on Cedars                                      \n",
        "The Secret Life of Bees                                     \n",
        "Angels &amp; Demons                                         \n",
        "Where the Heart Is (Oprah's Book Club (Paperback))"
      ],
      "metadata": {
        "id": "X5yVAlTML4ll"
      }
    },
    {
      "cell_type": "code",
      "source": [
        "# Create a bar chart of the top 10 most popular books\n",
        "plt.bar(book_ratings_count.head(10).index.get_level_values('Book-Title'), book_ratings_count.head(10)['Book-Rating'])\n",
        "plt.xticks(rotation=90)\n",
        "plt.ylabel('Number of Ratings')\n",
        "plt.title('Top 10 Most Popular Books')\n",
        "plt.show()"
      ],
      "metadata": {
        "id": "lpYdycREAtOU"
      },
      "execution_count": null,
      "outputs": []
    },
    {
      "cell_type": "markdown",
      "source": [
        "**Top 10 most popular publishers**"
      ],
      "metadata": {
        "id": "idf0ZR497lhw"
      }
    },
    {
      "cell_type": "code",
      "source": [
        "# Create a DataFrame with the number of ratings for each publisher\n",
        "publisher_ratings_count = pd.DataFrame(df.groupby('Publisher')['Book-Rating'].count())\n",
        "\n",
        "# Sort the publishers by the number of ratings in descending order\n",
        "publisher_ratings_count.sort_values('Book-Rating', ascending=False, inplace=True)\n",
        "\n",
        "# Print the top 10 most popular publishers\n",
        "print(publisher_ratings_count.head(10))\n",
        "\n"
      ],
      "metadata": {
        "id": "bFxyV2Rj6KvF"
      },
      "execution_count": null,
      "outputs": []
    },
    {
      "cell_type": "code",
      "source": [
        "# Create a bar chart of the top 10 most popular publishers\n",
        "plt.bar(publisher_ratings_count.head(10).index, publisher_ratings_count.head(10)['Book-Rating'])\n",
        "plt.xticks(rotation=90)\n",
        "plt.ylabel('Number of Ratings')\n",
        "plt.title('Top 10 Most Popular Publishers')\n",
        "plt.show()"
      ],
      "metadata": {
        "id": "ZMHUyj4LAycT"
      },
      "execution_count": null,
      "outputs": []
    },
    {
      "cell_type": "markdown",
      "source": [
        "**Top 10 Most Popular Authors**"
      ],
      "metadata": {
        "id": "tDzEgAho7ufS"
      }
    },
    {
      "cell_type": "code",
      "source": [
        "# Create a DataFrame with the number of ratings for each author\n",
        "author_ratings_count = pd.DataFrame(df.groupby('Book-Author')['Book-Rating'].count())\n",
        "\n",
        "# Sort the authors by the number of ratings in descending order\n",
        "author_ratings_count.sort_values('Book-Rating', ascending=False, inplace=True)\n",
        "\n",
        "# Print the top 10 most popular authors\n",
        "print(author_ratings_count.head(10))\n",
        "\n"
      ],
      "metadata": {
        "id": "QllCQQBW6Mf0"
      },
      "execution_count": null,
      "outputs": []
    },
    {
      "cell_type": "code",
      "source": [
        "# Create a bar chart of the top 10 most popular authors\n",
        "plt.bar(author_ratings_count.head(10).index, author_ratings_count.head(10)['Book-Rating'])\n",
        "plt.xticks(rotation=90)\n",
        "plt.ylabel('Number of Ratings')\n",
        "plt.title('Top 10 Most Popular Authors')\n",
        "plt.show()"
      ],
      "metadata": {
        "id": "aA7da6KbA1DD"
      },
      "execution_count": null,
      "outputs": []
    },
    {
      "cell_type": "markdown",
      "source": [
        "**Analysis how the number of books published each year has changed over time**"
      ],
      "metadata": {
        "id": "iazz_skZ6339"
      }
    },
    {
      "cell_type": "code",
      "source": [
        "# Create a DataFrame with the number of books published each year\n",
        "books_published_per_year = pd.DataFrame(df.groupby('Year-Of-Publication')['ISBN'].count())\n",
        "\n",
        "# Sort the years by the number of books published in ascending order\n",
        "books_published_per_year.sort_values('Year-Of-Publication', ascending=True, inplace=True)\n",
        "\n",
        "# Print the number of books published each year\n",
        "print(books_published_per_year)\n",
        "\n"
      ],
      "metadata": {
        "id": "q525AMPL6xmO"
      },
      "execution_count": null,
      "outputs": []
    },
    {
      "cell_type": "code",
      "source": [
        "# Create a line chart of the number of books published each year\n",
        "plt.plot(books_published_per_year.index, books_published_per_year['ISBN'])\n",
        "plt.xlabel('Year')\n",
        "plt.ylabel('Number of Books Published')\n",
        "plt.title('Number of Books Published Each Year')\n",
        "plt.show()"
      ],
      "metadata": {
        "id": "6OjjbMT7A3D7"
      },
      "execution_count": null,
      "outputs": []
    },
    {
      "cell_type": "code",
      "source": [
        "most_popular_year = books_published_per_year['ISBN'].idxmax()\n",
        "print(f\"The most popular year for book publishing in the dataset was {most_popular_year}.\")"
      ],
      "metadata": {
        "id": "e9OVYjqp8WE1"
      },
      "execution_count": null,
      "outputs": []
    },
    {
      "cell_type": "markdown",
      "source": [
        "**The distribution of ratings given by users**"
      ],
      "metadata": {
        "id": "AQ3oh-Hn9QgM"
      }
    },
    {
      "cell_type": "code",
      "source": [
        "# Create a DataFrame with the distribution of ratings given by users\n",
        "ratings_distribution = pd.DataFrame(df.groupby('User-ID')['Book-Rating'].mean())\n",
        "\n",
        "# Print the distribution of ratings given by users\n",
        "print(ratings_distribution.describe())\n",
        "\n"
      ],
      "metadata": {
        "id": "XmKoa0Hl9VLE"
      },
      "execution_count": null,
      "outputs": []
    },
    {
      "cell_type": "code",
      "source": [
        "# Create a histogram of the distribution of ratings given by users\n",
        "plt.hist(ratings_distribution['Book-Rating'], bins=10)\n",
        "plt.xlabel('Rating')\n",
        "plt.ylabel('Frequency')\n",
        "plt.title('Distribution of Ratings Given by Users')\n",
        "plt.show()"
      ],
      "metadata": {
        "id": "dtBbwkJ5A5dc"
      },
      "execution_count": null,
      "outputs": []
    },
    {
      "cell_type": "code",
      "source": [
        "high_raters = ratings_distribution.sort_values('Book-Rating', ascending=False)[:10]\n",
        "low_raters = ratings_distribution.sort_values('Book-Rating', ascending=True)[:10]\n",
        "\n",
        "print(f\"Users who give the highest ratings:\\n{high_raters}\")\n",
        "print(f\"\\nUsers who give the lowest ratings:\\n{low_raters}\")"
      ],
      "metadata": {
        "id": "dQ7wi-tD9ijp"
      },
      "execution_count": null,
      "outputs": []
    },
    {
      "cell_type": "code",
      "source": [
        "user_info = df.groupby('User-ID').agg({'Age': 'mean', 'City': 'first', 'State': 'first', 'Country': 'first'})\n",
        "print(user_info.head())"
      ],
      "metadata": {
        "id": "40RVwZEu-L6i"
      },
      "execution_count": null,
      "outputs": []
    },
    {
      "cell_type": "markdown",
      "source": [
        "**Study of the popularity of books by different authors**"
      ],
      "metadata": {
        "id": "mOu3s65v_npq"
      }
    },
    {
      "cell_type": "code",
      "source": [
        "# Create a DataFrame with the number of books written by each author\n",
        "author_counts = df['Book-Author'].value_counts().reset_index()\n",
        "author_counts.columns = ['Book-Author', 'Book-Count']\n",
        "\n",
        "# Create a DataFrame with the average rating for books written by each author\n",
        "author_ratings = df.groupby('Book-Author')['Book-Rating'].mean().reset_index()\n",
        "author_ratings.columns = ['Book-Author', 'Average-Rating']\n",
        "\n",
        "# Merge the two DataFrames on the Book-Author column\n",
        "author_data = pd.merge(author_counts, author_ratings, on='Book-Author')\n",
        "\n",
        "# Print the top 10 authors by book count and average rating\n",
        "print(author_data.sort_values(['Book-Count', 'Average-Rating'], ascending=False).head(10))"
      ],
      "metadata": {
        "id": "XHhhfeFl-0WA"
      },
      "execution_count": null,
      "outputs": []
    },
    {
      "cell_type": "markdown",
      "source": [
        "**Analysis of the books by publisher or author**"
      ],
      "metadata": {
        "id": "HRU-PG0Y_wZd"
      }
    },
    {
      "cell_type": "code",
      "source": [
        "# Create a DataFrame with the count of books published by each publisher\n",
        "publisher_counts = df['Publisher'].value_counts().reset_index()\n",
        "publisher_counts.columns = ['Publisher', 'Book-Count']\n",
        "\n",
        "# Create a DataFrame with the average rating for books published by each publisher\n",
        "publisher_ratings = df.groupby('Publisher')['Book-Rating'].mean().reset_index()\n",
        "publisher_ratings.columns = ['Publisher', 'Average-Rating']\n",
        "\n",
        "# Merge the two DataFrames on the Publisher column\n",
        "publisher_data = pd.merge(publisher_counts, publisher_ratings, on='Publisher')\n",
        "\n",
        "# Print the top 10 publishers by book count and average rating\n",
        "print(publisher_data.sort_values(['Book-Count', 'Average-Rating'], ascending=False).head(10))"
      ],
      "metadata": {
        "id": "OtY87Q82-4Nc"
      },
      "execution_count": null,
      "outputs": []
    },
    {
      "cell_type": "code",
      "source": [
        "# Compute the correlation between publication year and rating\n",
        "corr = df['Year-Of-Publication'].corr(df['Book-Rating'])\n",
        "\n",
        "print(f\"Correlation between publication year and rating: {corr:.2f}\")"
      ],
      "metadata": {
        "id": "rJi88kd2BRMA"
      },
      "execution_count": null,
      "outputs": []
    },
    {
      "cell_type": "code",
      "source": [
        "# Compute the correlation between publisher and rating\n",
        "corr = df.groupby('Publisher')['Book-Rating'].mean().corr(df.groupby('Publisher')['Book-Rating'].count())\n",
        "\n",
        "print(f\"Correlation between publisher and rating: {corr:.2f}\")"
      ],
      "metadata": {
        "id": "gNo4zxNlBULn"
      },
      "execution_count": null,
      "outputs": []
    },
    {
      "cell_type": "markdown",
      "source": [
        "**The distribution of users across different countries**."
      ],
      "metadata": {
        "id": "EDjK6VWPD_FT"
      }
    },
    {
      "cell_type": "code",
      "source": [
        "# Count the number of users in each country\n",
        "country_counts = df['Country'].value_counts().head(15)\n",
        "\n",
        "# Plot the results using a bar chart\n",
        "fig, ax = plt.subplots(figsize=(10,6))\n",
        "ax.bar(country_counts.index, country_counts.values)\n",
        "\n",
        "# Set chart title and labels\n",
        "ax.set_title('Distribution of Users by Country (Top 15)')\n",
        "ax.set_xlabel('Country')\n",
        "ax.set_ylabel('Number of Users')\n",
        "\n",
        "# Rotate the x-axis labels for better readability\n",
        "plt.xticks(rotation=90)\n",
        "\n",
        "# Display the chart\n",
        "plt.show()"
      ],
      "metadata": {
        "id": "Vw7K0NUNEE2D"
      },
      "execution_count": null,
      "outputs": []
    },
    {
      "cell_type": "code",
      "source": [
        "# Filter the dataframe to only include users from the USA\n",
        "usa_df = df[df['Country'] == 'usa']\n",
        "\n",
        "# Count the number of users in each state\n",
        "state_counts = usa_df['State'].value_counts().head(15)\n",
        "\n",
        "# Plot the results using a bar chart or histogram\n",
        "fig, ax = plt.subplots(figsize=(10,6))\n",
        "ax.bar(state_counts.index, state_counts.values)\n",
        "\n",
        "# Set chart title and labels\n",
        "ax.set_title('Distribution of Users by State (USA)')\n",
        "ax.set_xlabel('State')\n",
        "ax.set_ylabel('Number of Users')\n",
        "\n",
        "# Rotate the x-axis labels for better readability\n",
        "plt.xticks(rotation=90)\n",
        "\n",
        "# Display the chart\n",
        "plt.show()\n"
      ],
      "metadata": {
        "id": "E6vXCexrIhl6"
      },
      "execution_count": null,
      "outputs": []
    },
    {
      "cell_type": "markdown",
      "source": [
        "**the distribution of users across different states or cities**"
      ],
      "metadata": {
        "id": "o3IBX3ilExIa"
      }
    },
    {
      "cell_type": "code",
      "source": [
        "# Count the number of users in each state\n",
        "state_counts = df['State'].value_counts().head(15)\n",
        "\n",
        "# Plot the results using a bar chart or histogram\n",
        "fig, ax = plt.subplots(figsize=(10,6))\n",
        "ax.bar(state_counts.index, state_counts.values)\n",
        "\n",
        "# Set chart title and labels\n",
        "ax.set_title('Distribution of Users by State(TOP 15)')\n",
        "ax.set_xlabel('State')\n",
        "ax.set_ylabel('Number of Users')\n",
        "\n",
        "# Rotate the x-axis labels for better readability\n",
        "plt.xticks(rotation=90)\n",
        "\n",
        "# Display the chart\n",
        "plt.show()"
      ],
      "metadata": {
        "id": "ka2-z5JnE0Ap"
      },
      "execution_count": null,
      "outputs": []
    },
    {
      "cell_type": "code",
      "source": [
        "# Count the number of users in each city\n",
        "city_counts = df['City'].value_counts().head(15)\n",
        "\n",
        "# Plot the results using a bar chart or histogram\n",
        "fig, ax = plt.subplots(figsize=(10,6))\n",
        "ax.bar(city_counts.index, city_counts.values)\n",
        "\n",
        "# Set chart title and labels\n",
        "ax.set_title('Distribution of Users by City(TOP 15)')\n",
        "ax.set_xlabel('City')\n",
        "ax.set_ylabel('Number of Users')\n",
        "\n",
        "# Rotate the x-axis labels for better readability\n",
        "plt.xticks(rotation=90)\n",
        "\n",
        "# Display the chart\n",
        "plt.show()"
      ],
      "metadata": {
        "id": "8yrTnLwzE84h"
      },
      "execution_count": null,
      "outputs": []
    },
    {
      "cell_type": "markdown",
      "source": [
        "**Analysis of whether there is a correlation between the location of a user and the rating they give to a book.**"
      ],
      "metadata": {
        "id": "q28zeC05GTmQ"
      }
    },
    {
      "cell_type": "code",
      "source": [
        "# Create a pivot table with the mean rating for each combination of city and country\n",
        "location_ratings = df.pivot_table(values='Book-Rating', index=['City', 'Country'], aggfunc=np.mean)\n",
        "\n",
        "# Display the top 10 cities with the highest mean rating\n",
        "print(location_ratings.sort_values('Book-Rating', ascending=False).head(10))"
      ],
      "metadata": {
        "id": "2WoVG22LGECk"
      },
      "execution_count": null,
      "outputs": []
    },
    {
      "cell_type": "code",
      "source": [
        "# Plot a histogram of user ages\n",
        "fig, ax = plt.subplots(figsize=(10,6))\n",
        "ax.hist(df['Age'], bins=20)\n",
        "\n",
        "# Set chart title and labels\n",
        "ax.set_title('Distribution of User Ages')\n",
        "ax.set_xlabel('Age')\n",
        "ax.set_ylabel('Number of Users')\n",
        "\n",
        "# Display the chart\n",
        "plt.show()"
      ],
      "metadata": {
        "id": "MKBpgol9GYdg"
      },
      "execution_count": null,
      "outputs": []
    },
    {
      "cell_type": "markdown",
      "source": [
        "## ***5. Hypothesis Testing***"
      ],
      "metadata": {
        "id": "g-ATYxFrGrvw"
      }
    },
    {
      "cell_type": "markdown",
      "source": [
        "### Based on your chart experiments, define three hypothetical statements from the dataset. In the next three questions, perform hypothesis testing to obtain final conclusion about the statements through your code and statistical testing."
      ],
      "metadata": {
        "id": "Yfr_Vlr8HBkt"
      }
    },
    {
      "cell_type": "markdown",
      "source": [
        "Answer Here."
      ],
      "metadata": {
        "id": "-7MS06SUHkB-"
      }
    },
    {
      "cell_type": "markdown",
      "source": [
        "### Hypothetical Statement - 1"
      ],
      "metadata": {
        "id": "8yEUt7NnHlrM"
      }
    },
    {
      "cell_type": "markdown",
      "source": [
        "#### 1. State Your research hypothesis as a null hypothesis and alternate hypothesis."
      ],
      "metadata": {
        "id": "tEA2Xm5dHt1r"
      }
    },
    {
      "cell_type": "markdown",
      "source": [
        "Answer Here."
      ],
      "metadata": {
        "id": "HI9ZP0laH0D-"
      }
    },
    {
      "cell_type": "markdown",
      "source": [
        "#### 2. Perform an appropriate statistical test."
      ],
      "metadata": {
        "id": "I79__PHVH19G"
      }
    },
    {
      "cell_type": "code",
      "source": [
        "# Perform Statistical Test to obtain P-Value"
      ],
      "metadata": {
        "id": "oZrfquKtyian"
      },
      "execution_count": null,
      "outputs": []
    },
    {
      "cell_type": "markdown",
      "source": [
        "##### Which statistical test have you done to obtain P-Value?"
      ],
      "metadata": {
        "id": "Ou-I18pAyIpj"
      }
    },
    {
      "cell_type": "markdown",
      "source": [
        "Answer Here."
      ],
      "metadata": {
        "id": "s2U0kk00ygSB"
      }
    },
    {
      "cell_type": "markdown",
      "source": [
        "##### Why did you choose the specific statistical test?"
      ],
      "metadata": {
        "id": "fF3858GYyt-u"
      }
    },
    {
      "cell_type": "markdown",
      "source": [
        "Answer Here."
      ],
      "metadata": {
        "id": "HO4K0gP5y3B4"
      }
    },
    {
      "cell_type": "markdown",
      "source": [
        "### Hypothetical Statement - 2"
      ],
      "metadata": {
        "id": "4_0_7-oCpUZd"
      }
    },
    {
      "cell_type": "markdown",
      "source": [
        "#### 1. State Your research hypothesis as a null hypothesis and alternate hypothesis."
      ],
      "metadata": {
        "id": "hwyV_J3ipUZe"
      }
    },
    {
      "cell_type": "markdown",
      "source": [
        "Answer Here."
      ],
      "metadata": {
        "id": "FnpLGJ-4pUZe"
      }
    },
    {
      "cell_type": "markdown",
      "source": [
        "#### 2. Perform an appropriate statistical test."
      ],
      "metadata": {
        "id": "3yB-zSqbpUZe"
      }
    },
    {
      "cell_type": "code",
      "source": [
        "# Perform Statistical Test to obtain P-Value"
      ],
      "metadata": {
        "id": "sWxdNTXNpUZe"
      },
      "execution_count": null,
      "outputs": []
    },
    {
      "cell_type": "markdown",
      "source": [
        "##### Which statistical test have you done to obtain P-Value?"
      ],
      "metadata": {
        "id": "dEUvejAfpUZe"
      }
    },
    {
      "cell_type": "markdown",
      "source": [
        "Answer Here."
      ],
      "metadata": {
        "id": "oLDrPz7HpUZf"
      }
    },
    {
      "cell_type": "markdown",
      "source": [
        "##### Why did you choose the specific statistical test?"
      ],
      "metadata": {
        "id": "Fd15vwWVpUZf"
      }
    },
    {
      "cell_type": "markdown",
      "source": [
        "Answer Here."
      ],
      "metadata": {
        "id": "4xOGYyiBpUZf"
      }
    },
    {
      "cell_type": "markdown",
      "source": [
        "### Hypothetical Statement - 3"
      ],
      "metadata": {
        "id": "bn_IUdTipZyH"
      }
    },
    {
      "cell_type": "markdown",
      "source": [
        "#### 1. State Your research hypothesis as a null hypothesis and alternate hypothesis."
      ],
      "metadata": {
        "id": "49K5P_iCpZyH"
      }
    },
    {
      "cell_type": "markdown",
      "source": [
        "Answer Here."
      ],
      "metadata": {
        "id": "7gWI5rT9pZyH"
      }
    },
    {
      "cell_type": "markdown",
      "source": [
        "#### 2. Perform an appropriate statistical test."
      ],
      "metadata": {
        "id": "Nff-vKELpZyI"
      }
    },
    {
      "cell_type": "code",
      "source": [
        "# Perform Statistical Test to obtain P-Value"
      ],
      "metadata": {
        "id": "s6AnJQjtpZyI"
      },
      "execution_count": null,
      "outputs": []
    },
    {
      "cell_type": "markdown",
      "source": [
        "##### Which statistical test have you done to obtain P-Value?"
      ],
      "metadata": {
        "id": "kLW572S8pZyI"
      }
    },
    {
      "cell_type": "markdown",
      "source": [
        "Answer Here."
      ],
      "metadata": {
        "id": "ytWJ8v15pZyI"
      }
    },
    {
      "cell_type": "markdown",
      "source": [
        "##### Why did you choose the specific statistical test?"
      ],
      "metadata": {
        "id": "dWbDXHzopZyI"
      }
    },
    {
      "cell_type": "markdown",
      "source": [
        "Answer Here."
      ],
      "metadata": {
        "id": "M99G98V6pZyI"
      }
    },
    {
      "cell_type": "markdown",
      "source": [
        "## ***7. ML Model Implementation***"
      ],
      "metadata": {
        "id": "VfCC591jGiD4"
      }
    },
    {
      "cell_type": "markdown",
      "source": [
        "### ML Model - 1"
      ],
      "metadata": {
        "id": "OB4l2ZhMeS1U"
      }
    },
    {
      "cell_type": "code",
      "source": [
        "# ML Model - 1 Implementation\n",
        "\n",
        "# Fit the Algorithm\n",
        "\n",
        "# Predict on the model"
      ],
      "metadata": {
        "id": "7ebyywQieS1U"
      },
      "execution_count": null,
      "outputs": []
    },
    {
      "cell_type": "markdown",
      "source": [
        "#### 1. Explain the ML Model used and it's performance using Evaluation metric Score Chart."
      ],
      "metadata": {
        "id": "ArJBuiUVfxKd"
      }
    },
    {
      "cell_type": "code",
      "source": [
        "# Visualizing evaluation Metric Score chart"
      ],
      "metadata": {
        "id": "rqD5ZohzfxKe"
      },
      "execution_count": null,
      "outputs": []
    },
    {
      "cell_type": "markdown",
      "source": [
        "#### 2. Cross- Validation & Hyperparameter Tuning"
      ],
      "metadata": {
        "id": "4qY1EAkEfxKe"
      }
    },
    {
      "cell_type": "code",
      "source": [
        "# ML Model - 1 Implementation with hyperparameter optimization techniques (i.e., GridSearch CV, RandomSearch CV, Bayesian Optimization etc.)\n",
        "\n",
        "# Fit the Algorithm\n",
        "\n",
        "# Predict on the model"
      ],
      "metadata": {
        "id": "Dy61ujd6fxKe"
      },
      "execution_count": null,
      "outputs": []
    },
    {
      "cell_type": "markdown",
      "source": [
        "##### Which hyperparameter optimization technique have you used and why?"
      ],
      "metadata": {
        "id": "PiV4Ypx8fxKe"
      }
    },
    {
      "cell_type": "markdown",
      "source": [
        "Answer Here."
      ],
      "metadata": {
        "id": "negyGRa7fxKf"
      }
    },
    {
      "cell_type": "markdown",
      "source": [
        "##### Have you seen any improvement? Note down the improvement with updates Evaluation metric Score Chart."
      ],
      "metadata": {
        "id": "TfvqoZmBfxKf"
      }
    },
    {
      "cell_type": "markdown",
      "source": [
        "Answer Here."
      ],
      "metadata": {
        "id": "OaLui8CcfxKf"
      }
    },
    {
      "cell_type": "markdown",
      "source": [
        "### ML Model - 2"
      ],
      "metadata": {
        "id": "dJ2tPlVmpsJ0"
      }
    },
    {
      "cell_type": "markdown",
      "source": [
        "#### 1. Explain the ML Model used and it's performance using Evaluation metric Score Chart."
      ],
      "metadata": {
        "id": "JWYfwnehpsJ1"
      }
    },
    {
      "cell_type": "code",
      "source": [
        "# Visualizing evaluation Metric Score chart"
      ],
      "metadata": {
        "id": "yEl-hgQWpsJ1"
      },
      "execution_count": null,
      "outputs": []
    },
    {
      "cell_type": "markdown",
      "source": [
        "#### 2. Cross- Validation & Hyperparameter Tuning"
      ],
      "metadata": {
        "id": "-jK_YjpMpsJ2"
      }
    },
    {
      "cell_type": "code",
      "source": [
        "# ML Model - 1 Implementation with hyperparameter optimization techniques (i.e., GridSearch CV, RandomSearch CV, Bayesian Optimization etc.)\n",
        "\n",
        "# Fit the Algorithm\n",
        "\n",
        "# Predict on the model"
      ],
      "metadata": {
        "id": "Dn0EOfS6psJ2"
      },
      "execution_count": null,
      "outputs": []
    },
    {
      "cell_type": "markdown",
      "source": [
        "##### Which hyperparameter optimization technique have you used and why?"
      ],
      "metadata": {
        "id": "HAih1iBOpsJ2"
      }
    },
    {
      "cell_type": "markdown",
      "source": [
        "Answer Here."
      ],
      "metadata": {
        "id": "9kBgjYcdpsJ2"
      }
    },
    {
      "cell_type": "markdown",
      "source": [
        "##### Have you seen any improvement? Note down the improvement with updates Evaluation metric Score Chart."
      ],
      "metadata": {
        "id": "zVGeBEFhpsJ2"
      }
    },
    {
      "cell_type": "markdown",
      "source": [
        "Answer Here."
      ],
      "metadata": {
        "id": "74yRdG6UpsJ3"
      }
    },
    {
      "cell_type": "markdown",
      "source": [
        "#### 3. Explain each evaluation metric's indication towards business and the business impact pf the ML model used."
      ],
      "metadata": {
        "id": "bmKjuQ-FpsJ3"
      }
    },
    {
      "cell_type": "markdown",
      "source": [
        "Answer Here."
      ],
      "metadata": {
        "id": "BDKtOrBQpsJ3"
      }
    },
    {
      "cell_type": "markdown",
      "source": [
        "### ML Model - 3"
      ],
      "metadata": {
        "id": "Fze-IPXLpx6K"
      }
    },
    {
      "cell_type": "code",
      "source": [
        "# ML Model - 3 Implementation\n",
        "\n",
        "# Fit the Algorithm\n",
        "\n",
        "# Predict on the model"
      ],
      "metadata": {
        "id": "FFrSXAtrpx6M"
      },
      "execution_count": null,
      "outputs": []
    },
    {
      "cell_type": "markdown",
      "source": [
        "#### 1. Explain the ML Model used and it's performance using Evaluation metric Score Chart."
      ],
      "metadata": {
        "id": "7AN1z2sKpx6M"
      }
    },
    {
      "cell_type": "code",
      "source": [
        "# Visualizing evaluation Metric Score chart"
      ],
      "metadata": {
        "id": "xIY4lxxGpx6M"
      },
      "execution_count": null,
      "outputs": []
    },
    {
      "cell_type": "markdown",
      "source": [
        "#### 2. Cross- Validation & Hyperparameter Tuning"
      ],
      "metadata": {
        "id": "9PIHJqyupx6M"
      }
    },
    {
      "cell_type": "code",
      "source": [
        "# ML Model - 3 Implementation with hyperparameter optimization techniques (i.e., GridSearch CV, RandomSearch CV, Bayesian Optimization etc.)\n",
        "\n",
        "# Fit the Algorithm\n",
        "\n",
        "# Predict on the model"
      ],
      "metadata": {
        "id": "eSVXuaSKpx6M"
      },
      "execution_count": null,
      "outputs": []
    },
    {
      "cell_type": "markdown",
      "source": [
        "##### Which hyperparameter optimization technique have you used and why?"
      ],
      "metadata": {
        "id": "_-qAgymDpx6N"
      }
    },
    {
      "cell_type": "markdown",
      "source": [
        "Answer Here."
      ],
      "metadata": {
        "id": "lQMffxkwpx6N"
      }
    },
    {
      "cell_type": "markdown",
      "source": [
        "##### Have you seen any improvement? Note down the improvement with updates Evaluation metric Score Chart."
      ],
      "metadata": {
        "id": "Z-hykwinpx6N"
      }
    },
    {
      "cell_type": "markdown",
      "source": [
        "Answer Here."
      ],
      "metadata": {
        "id": "MzVzZC6opx6N"
      }
    },
    {
      "cell_type": "markdown",
      "source": [
        "### 1. Which Evaluation metrics did you consider for a positive business impact and why?"
      ],
      "metadata": {
        "id": "h_CCil-SKHpo"
      }
    },
    {
      "cell_type": "markdown",
      "source": [
        "Answer Here."
      ],
      "metadata": {
        "id": "jHVz9hHDKFms"
      }
    },
    {
      "cell_type": "markdown",
      "source": [
        "### 2. Which ML model did you choose from the above created models as your final prediction model and why?"
      ],
      "metadata": {
        "id": "cBFFvTBNJzUa"
      }
    },
    {
      "cell_type": "markdown",
      "source": [
        "Answer Here."
      ],
      "metadata": {
        "id": "6ksF5Q1LKTVm"
      }
    },
    {
      "cell_type": "markdown",
      "source": [
        "### 3. Explain the model which you have used and the feature importance using any model explainability tool?"
      ],
      "metadata": {
        "id": "HvGl1hHyA_VK"
      }
    },
    {
      "cell_type": "markdown",
      "source": [
        "Answer Here."
      ],
      "metadata": {
        "id": "YnvVTiIxBL-C"
      }
    },
    {
      "cell_type": "markdown",
      "source": [
        "## ***8.*** ***Future Work (Optional)***"
      ],
      "metadata": {
        "id": "EyNgTHvd2WFk"
      }
    },
    {
      "cell_type": "markdown",
      "source": [
        "### 1. Save the best performing ml model in a pickle file or joblib file format for deployment process.\n"
      ],
      "metadata": {
        "id": "KH5McJBi2d8v"
      }
    },
    {
      "cell_type": "code",
      "source": [
        "# Save the File"
      ],
      "metadata": {
        "id": "bQIANRl32f4J"
      },
      "execution_count": null,
      "outputs": []
    },
    {
      "cell_type": "markdown",
      "source": [
        "### 2. Again Load the saved model file and try to predict unseen data for a sanity check.\n"
      ],
      "metadata": {
        "id": "iW_Lq9qf2h6X"
      }
    },
    {
      "cell_type": "code",
      "source": [
        "# Load the File and predict unseen data."
      ],
      "metadata": {
        "id": "oEXk9ydD2nVC"
      },
      "execution_count": null,
      "outputs": []
    },
    {
      "cell_type": "markdown",
      "source": [
        "### ***Congrats! Your model is successfully created and ready for deployment on a live server for a real user interaction !!!***"
      ],
      "metadata": {
        "id": "-Kee-DAl2viO"
      }
    },
    {
      "cell_type": "markdown",
      "source": [
        "# **Conclusion**"
      ],
      "metadata": {
        "id": "gCX9965dhzqZ"
      }
    },
    {
      "cell_type": "markdown",
      "source": [
        "Write the conclusion here."
      ],
      "metadata": {
        "id": "Fjb1IsQkh3yE"
      }
    },
    {
      "cell_type": "markdown",
      "source": [
        "### ***Hurrah! You have successfully completed your Machine Learning Capstone Project !!!***"
      ],
      "metadata": {
        "id": "gIfDvo9L0UH2"
      }
    }
  ]
}