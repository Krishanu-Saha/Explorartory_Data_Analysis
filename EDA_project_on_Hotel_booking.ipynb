{
  "nbformat": 4,
  "nbformat_minor": 0,
  "metadata": {
    "colab": {
      "private_outputs": true,
      "provenance": [],
      "collapsed_sections": [
        "vncDsAP0Gaoa",
        "w6K7xa23Elo4",
        "mDgbUHAGgjLW",
        "GF8Ens_Soomf",
        "0wOQAZs5pc--",
        "K5QZ13OEpz2H",
        "lQ7QKXXCp7Bj",
        "448CDAPjqfQr",
        "KSlN3yHqYklG",
        "t6dVpIINYklI",
        "ijmpgYnKYklI",
        "-JiQyfWJYklI",
        "EM7whBJCYoAo",
        "fge-S5ZAYoAp",
        "85gYPyotYoAp",
        "RoGjAbkUYoAp",
        "4Of9eVA-YrdM",
        "iky9q4vBYrdO",
        "F6T5p64dYrdO",
        "y-Ehk30pYrdP",
        "bamQiAODYuh1",
        "QHF8YVU7Yuh3",
        "GwzvFGzlYuh3",
        "qYpmQ266Yuh3",
        "OH-pJp9IphqM",
        "bbFf2-_FphqN",
        "_ouA3fa0phqN",
        "Seke61FWphqN",
        "PIIx-8_IphqN",
        "t27r6nlMphqO",
        "r2jJGEOYphqO",
        "b0JNsNcRphqO",
        "BZR9WyysphqO",
        "jj7wYXLtphqO",
        "eZrbJ2SmphqO",
        "rFu4xreNphqO",
        "YJ55k-q6phqO",
        "gCFgpxoyphqP",
        "OVtJsKN_phqQ",
        "lssrdh5qphqQ",
        "U2RJ9gkRphqQ",
        "1M8mcRywphqQ",
        "tgIPom80phqQ",
        "JMzcOPDDphqR",
        "x-EpHcCOp1ci",
        "X_VqEhTip1ck",
        "8zGJKyg5p1ck",
        "PVzmfK_Ep1ck",
        "n3dbpmDWp1ck",
        "ylSl6qgtp1ck",
        "ZWILFDl5p1ck",
        "M7G43BXep1ck",
        "Ag9LCva-p1cl",
        "E6MkPsBcp1cl",
        "2cELzS2fp1cl",
        "3MPXvC8up1cl",
        "NC_X3p0fY2L0",
        "UV0SzAkaZNRQ",
        "YPEH6qLeZNRQ",
        "q29F0dvdveiT",
        "EXh0U9oCveiU",
        "22aHeOlLveiV",
        "gIfDvo9L0UH2"
      ],
      "include_colab_link": true
    },
    "kernelspec": {
      "name": "python3",
      "display_name": "Python 3"
    },
    "language_info": {
      "name": "python"
    }
  },
  "cells": [
    {
      "cell_type": "markdown",
      "metadata": {
        "id": "view-in-github",
        "colab_type": "text"
      },
      "source": [
        "<a href=\"https://colab.research.google.com/github/Krishanu-Saha/data-science/blob/main/EDA_project_on_Hotel_booking.ipynb\" target=\"_parent\"><img src=\"https://colab.research.google.com/assets/colab-badge.svg\" alt=\"Open In Colab\"/></a>"
      ]
    },
    {
      "cell_type": "markdown",
      "source": [
        "# **Project Name**    - \n",
        "\n"
      ],
      "metadata": {
        "id": "vncDsAP0Gaoa"
      }
    },
    {
      "cell_type": "markdown",
      "source": [
        "##### **Project Type**    - EDA\n",
        "##### **Contribution**    - Individual\n",
        "\n",
        "\n"
      ],
      "metadata": {
        "id": "LiX_h79wevYj"
      }
    },
    {
      "cell_type": "markdown",
      "source": [
        "# **Project Summary -**"
      ],
      "metadata": {
        "id": "FJNUwmbgGyua"
      }
    },
    {
      "cell_type": "markdown",
      "source": [
        "Write the summary here within 500-600 words."
      ],
      "metadata": {
        "id": "F6v_1wHtG2nS"
      }
    },
    {
      "cell_type": "markdown",
      "source": [
        "# **GitHub Link -**"
      ],
      "metadata": {
        "id": "w6K7xa23Elo4"
      }
    },
    {
      "cell_type": "markdown",
      "source": [
        "Provide your GitHub Link here."
      ],
      "metadata": {
        "id": "h1o69JH3Eqqn"
      }
    },
    {
      "cell_type": "markdown",
      "source": [
        "# **Problem Statement**\n"
      ],
      "metadata": {
        "id": "yQaldy8SH6Dl"
      }
    },
    {
      "cell_type": "markdown",
      "source": [
        "**BUSINESS PROBLEM OVERVIEW** \n",
        "\n",
        "The following dataset on HOTEL BOOKINGS contains the information of booking for a city hotel and a resort hotel and includes information such as when the booking was made, length of stay, the number of adults, children, and/or babies, and the number of available parking spaces, among other things.\n",
        "Our objective is to perform EDA on the dataset find out various questions like\n",
        "\n",
        "when the best time of year to book a hotel room is? \n",
        "Or the optimal length of stay in order to get the best daily rate?\n",
        "prediction on whether or not a hotel was likely to receive a disproportionately high number of special requests?\n",
        " "
      ],
      "metadata": {
        "id": "vNKGMOYZg4N9"
      }
    },
    {
      "cell_type": "markdown",
      "source": [
        "#### **Define Your Business Objective?**"
      ],
      "metadata": {
        "id": "PH-0ReGfmX4f"
      }
    },
    {
      "cell_type": "markdown",
      "source": [
        "Answer Here."
      ],
      "metadata": {
        "id": "PhDvGCAqmjP1"
      }
    },
    {
      "cell_type": "markdown",
      "source": [
        "# **General Guidelines** : -  "
      ],
      "metadata": {
        "id": "mDgbUHAGgjLW"
      }
    },
    {
      "cell_type": "markdown",
      "source": [
        "1.   Well-structured, formatted, and commented code is required. \n",
        "2.   Exception Handling, Production Grade Code & Deployment Ready Code will be a plus. Those students will be awarded some additional credits. \n",
        "     \n",
        "     The additional credits will have advantages over other students during Star Student selection.\n",
        "       \n",
        "             [ Note: - Deployment Ready Code is defined as, the whole .ipynb notebook should be executable in one go\n",
        "                       without a single error logged. ]\n",
        "\n",
        "3.   Each and every logic should have proper comments.\n",
        "4. You may add as many number of charts you want. Make Sure for each and every chart the following format should be answered.\n",
        "        \n",
        "\n",
        "```\n",
        "# Chart visualization code\n",
        "```\n",
        "            \n",
        "\n",
        "*   Why did you pick the specific chart?\n",
        "*   What is/are the insight(s) found from the chart?\n",
        "* Will the gained insights help creating a positive business impact? \n",
        "Are there any insights that lead to negative growth? Justify with specific reason.\n",
        "\n",
        "5. You have to create at least 20 logical & meaningful charts having important insights.\n",
        "\n",
        "\n",
        "[ Hints : - Do the Vizualization in  a structured way while following \"UBM\" Rule. \n",
        "\n",
        "U - Univariate Analysis,\n",
        "\n",
        "B - Bivariate Analysis (Numerical - Categorical, Numerical - Numerical, Categorical - Categorical)\n",
        "\n",
        "M - Multivariate Analysis\n",
        " ]\n",
        "\n",
        "\n",
        "\n"
      ],
      "metadata": {
        "id": "ZrxVaUj-hHfC"
      }
    },
    {
      "cell_type": "markdown",
      "source": [
        "# ***Let's Begin !***"
      ],
      "metadata": {
        "id": "O_i_v8NEhb9l"
      }
    },
    {
      "cell_type": "markdown",
      "source": [
        "## ***1. Know Your Data***"
      ],
      "metadata": {
        "id": "HhfV-JJviCcP"
      }
    },
    {
      "cell_type": "markdown",
      "source": [
        "### Import Libraries"
      ],
      "metadata": {
        "id": "Y3lxredqlCYt"
      }
    },
    {
      "cell_type": "code",
      "source": [
        "from google.colab import drive\n",
        "drive.mount('/content/drive')"
      ],
      "metadata": {
        "id": "PheqCcItlJ6E"
      },
      "execution_count": null,
      "outputs": []
    },
    {
      "cell_type": "code",
      "source": [
        "# Import Libraries\n",
        "import numpy as np\n",
        "import pandas as pd\n",
        "from numpy import math\n",
        "from numpy import loadtxt\n",
        "import seaborn as sns\n",
        "import matplotlib.pyplot as plt\n",
        "%matplotlib inline\n",
        "from matplotlib import rcParams\n",
        "import plotly.offline as pyo\n",
        "import plotly.graph_objs as go\n",
        "import plotly.express as px \n"
      ],
      "metadata": {
        "id": "M8Vqi-pPk-HR"
      },
      "execution_count": null,
      "outputs": []
    },
    {
      "cell_type": "markdown",
      "source": [
        "### Dataset Loading"
      ],
      "metadata": {
        "id": "3RnN4peoiCZX"
      }
    },
    {
      "cell_type": "code",
      "source": [
        "# Load Dataset\n",
        "path ='/content/drive/MyDrive/Almabetter /project/EDA/Hotel Bookings.csv'\n",
        "df = pd.read_csv(path)\n"
      ],
      "metadata": {
        "id": "4CkvbW_SlZ_R"
      },
      "execution_count": null,
      "outputs": []
    },
    {
      "cell_type": "markdown",
      "source": [
        "### Dataset First View"
      ],
      "metadata": {
        "id": "x71ZqKXriCWQ"
      }
    },
    {
      "cell_type": "code",
      "source": [
        "# Dataset First Look\n",
        "pd.options.display.max_columns = None\n",
        "df.head()"
      ],
      "metadata": {
        "id": "LWNFOSvLl09H"
      },
      "execution_count": null,
      "outputs": []
    },
    {
      "cell_type": "markdown",
      "source": [
        "### Dataset Rows & Columns count"
      ],
      "metadata": {
        "id": "7hBIi_osiCS2"
      }
    },
    {
      "cell_type": "code",
      "source": [
        "# Dataset Rows & Columns count\n",
        "df.shape"
      ],
      "metadata": {
        "id": "Kllu7SJgmLij"
      },
      "execution_count": null,
      "outputs": []
    },
    {
      "cell_type": "markdown",
      "source": [
        "### Dataset Information"
      ],
      "metadata": {
        "id": "JlHwYmJAmNHm"
      }
    },
    {
      "cell_type": "code",
      "source": [
        "# Dataset Info\n",
        "df.info()"
      ],
      "metadata": {
        "id": "e9hRXRi6meOf"
      },
      "execution_count": null,
      "outputs": []
    },
    {
      "cell_type": "markdown",
      "source": [
        "#### understanding variables"
      ],
      "metadata": {
        "id": "250yA1jbtZvs"
      }
    },
    {
      "cell_type": "markdown",
      "source": [
        "\"hotel\": type of hotel (City Hotel or Resort Hotel)\n",
        "\n",
        "\"is_canceled\": whether the booking was canceled (0 or 1)\n",
        "\n",
        "\"lead_time\": number of days that elapsed between the entering date of the booking into the PMS and the arrival date\n",
        "\n",
        "\"arrival_date_year\": year of arrival date\n",
        "\n",
        "\"arrival_date_month\": month of arrival date\n",
        "\n",
        "\"arrival_date_week_number\": week number of the year for arrival date\n",
        "\n",
        "\"arrival_date_day_of_month\": day of the month for arrival date\n",
        "\n",
        "\"stays_in_weekend_nights\": number of weekend nights (Saturday or Sunday) the guest stayed or booked to stay\n",
        "\n",
        "\"stays_in_week_nights\": number of week nights (Monday to Friday) the guest stayed or booked to stay\n",
        "\n",
        "\"adults\": number of adults\n",
        "\n",
        "\"children\": number of children\n",
        "\n",
        "\"babies\": number of babies\n",
        "\n",
        "\"meal\": type of meal (BB, HB, FB, or SC)\n",
        "\n",
        "\"country\": country of origin\n",
        "\n",
        "\"market_segment\": market segment (Online TA, Offline TA/TO, Groups, or Direct)\n",
        "\n",
        "\"distribution_channel\": booking distribution channel (TA, TO, Direct, Corporate, or GDS)\n",
        "\n",
        "\"is_repeated_guest\": whether the booking name was from a repeated guest (0 or 1)\n",
        "\n",
        "\"previous_cancellations\": number of previous bookings that were cancelled by the customer prior to the current booking\n",
        "\n",
        "\"previous_bookings_not_canceled\": number of previous bookings not cancelled by the customer prior to the current booking\n",
        "\n",
        "\"reserved_room_type\": code of room type reserved\n",
        "\n",
        "\"assigned_room_type\": code for the type of room assigned to the booking\n",
        "\n",
        "\"booking_changes\": number of changes/amendments made to the booking from the moment the booking was entered on the PMS until the moment of check-in or cancellation\n",
        "\n",
        "\"deposit_type\": type of deposit (No Deposit, Non Refund, Refundable)\n",
        "\n",
        "\"agent\": ID of the travel agent who made the booking\n",
        "\n",
        "\"company\": ID of the company/entity that made the booking or responsible for paying the booking. This can be an ID of the travel agency, online travel agent, or tour operator.\n",
        "\n",
        "\"days_in_waiting_list\": number of days the booking was in the waiting list before it was confirmed to the customer\n",
        "\n",
        "\"customer_type\": type of booking, assuming one of four categories: Contract, Group, Transient, Transient-Party\n",
        "\n",
        "\"adr\": average daily rate as defined by dividing the sum of all lodging revenues by the total number of staying nights\n",
        "\n",
        "\"required_car_parking_spaces\": number of car parking spaces required by the customer\n",
        "\n",
        "\"total_of_special_requests\": number of special requests made by the customer (e.g. twin bed or high floor)\n",
        "\n",
        "\"reservation_status\": reservation last status, assuming one of three categories: Canceled, Check-Out, No-Show\n",
        "\n",
        "\"reservation_status_date\" : date of specific status"
      ],
      "metadata": {
        "id": "aJV4KIxSnxay"
      }
    },
    {
      "cell_type": "markdown",
      "source": [
        "#### Duplicate Values"
      ],
      "metadata": {
        "id": "35m5QtbWiB9F"
      }
    },
    {
      "cell_type": "code",
      "source": [
        "# Dataset Duplicate Value Count\n",
        "len(df[df.duplicated()])"
      ],
      "metadata": {
        "id": "1sLdpKYkmox0"
      },
      "execution_count": null,
      "outputs": []
    },
    {
      "cell_type": "code",
      "source": [
        "#droping duplicate values \n",
        "df.drop_duplicates(inplace=True)\n",
        "df.shape"
      ],
      "metadata": {
        "id": "W3OO4Eo2sL-a"
      },
      "execution_count": null,
      "outputs": []
    },
    {
      "cell_type": "code",
      "source": [
        "#creating a copy of dataset \n",
        "df1 = df.copy()\n"
      ],
      "metadata": {
        "id": "8Klwuqlms27S"
      },
      "execution_count": null,
      "outputs": []
    },
    {
      "cell_type": "markdown",
      "source": [
        "#### Handling Missing Values/Null Values"
      ],
      "metadata": {
        "id": "PoPl-ycgm1ru"
      }
    },
    {
      "cell_type": "code",
      "source": [
        "# Missing Values/Null Values Count\n",
        "df1.isnull().sum().sort_values(ascending = False)[:6]\n"
      ],
      "metadata": {
        "id": "GgHWkxvamxVg"
      },
      "execution_count": null,
      "outputs": []
    },
    {
      "cell_type": "markdown",
      "source": [
        "The columns \"Company\" and \"Agent\" contain information such as company number and agent numbers. In instances where a customer did not book through a company or agent, these columns may contain null values. To address this, we will fill any null values with 0."
      ],
      "metadata": {
        "id": "bpu3ocTEgA_X"
      }
    },
    {
      "cell_type": "code",
      "source": [
        "df1[['company','agent']] = df1[['company','agent']].fillna(0)"
      ],
      "metadata": {
        "id": "nrV0BnzrgbYX"
      },
      "execution_count": null,
      "outputs": []
    },
    {
      "cell_type": "code",
      "source": [
        "df1['children'].unique()"
      ],
      "metadata": {
        "id": "U38pCidCgyGt"
      },
      "execution_count": null,
      "outputs": []
    },
    {
      "cell_type": "code",
      "source": [
        "# We will replace the null values under this column with mean value of children.\n",
        "df1['children'].fillna(df1['children'].mean(),inplace = True)"
      ],
      "metadata": {
        "id": "j4sn0wuYhKGP"
      },
      "execution_count": null,
      "outputs": []
    },
    {
      "cell_type": "markdown",
      "source": [
        "Next column with null values is 'country'.\n",
        "\n",
        "we will replace null values with value 'others'  "
      ],
      "metadata": {
        "id": "Q9IpsDmEh6sk"
      }
    },
    {
      "cell_type": "code",
      "source": [
        "df1['country'].fillna('others', inplace = True)"
      ],
      "metadata": {
        "id": "pgPoBP4OiQ_r"
      },
      "execution_count": null,
      "outputs": []
    },
    {
      "cell_type": "code",
      "source": [
        "# checking the missing data \n",
        "df1.isnull().sum().sort_values(ascending = False)[:6]"
      ],
      "metadata": {
        "id": "a5A5GAGUiYAE"
      },
      "execution_count": null,
      "outputs": []
    },
    {
      "cell_type": "markdown",
      "source": [
        "There are some rows which have total number of adults, children or babies equal to zero. So we will get rid of such rows."
      ],
      "metadata": {
        "id": "Dnx15eHSjVNt"
      }
    },
    {
      "cell_type": "code",
      "source": [
        "df1[df1['adults']+df1['babies']+df1['children'] == 0].shape"
      ],
      "metadata": {
        "id": "ZctRLgAzjd3a"
      },
      "execution_count": null,
      "outputs": []
    },
    {
      "cell_type": "code",
      "source": [
        "df1.drop(df1[df1['adults']+df1['babies']+df1['children'] == 0].index, inplace = True)"
      ],
      "metadata": {
        "id": "aULmrpDtjjqy"
      },
      "execution_count": null,
      "outputs": []
    },
    {
      "cell_type": "markdown",
      "source": [
        "#### COVERTING IMPORTANT DATA TYPES TO ANOTHER "
      ],
      "metadata": {
        "id": "GF1VQJHDki_c"
      }
    },
    {
      "cell_type": "code",
      "source": [
        "# Converting datatype of columns 'children', 'company' and 'agent' from float to int.\n",
        "df1[['children', 'company', 'agent']] = df1[['children', 'company', 'agent']].astype('int64')"
      ],
      "metadata": {
        "id": "cH3CHvJuj2kl"
      },
      "execution_count": null,
      "outputs": []
    },
    {
      "cell_type": "code",
      "source": [
        "# converting reservation_status_date from object to datetime datatype\n",
        "df1['reservation_status_date'] = pd.to_datetime(df1['reservation_status_date'], format='%Y-%m-%d')\n"
      ],
      "metadata": {
        "id": "4cgBar5tkd26"
      },
      "execution_count": null,
      "outputs": []
    },
    {
      "cell_type": "markdown",
      "source": [
        "#### ADDING ADDITIONAL COLUMNS"
      ],
      "metadata": {
        "id": "hAslB1BykwM6"
      }
    },
    {
      "cell_type": "code",
      "source": [
        "# Adding total staying days in hotels\n",
        "df1['total_stay'] = df1['stays_in_weekend_nights']+df1['stays_in_week_nights']\n",
        "\n",
        "# Adding total people num as column, i.e. total people num = num of adults + children + babies\n",
        "df1['total_people'] = df1['adults']+df1['children']+df1['babies']"
      ],
      "metadata": {
        "id": "n41wuM4tkOJl"
      },
      "execution_count": null,
      "outputs": []
    },
    {
      "cell_type": "markdown",
      "source": [
        "We are adding this column to analyse the stay length at hotels ahead."
      ],
      "metadata": {
        "id": "QHqgDGxXlJq9"
      }
    },
    {
      "cell_type": "markdown",
      "source": [
        "## ***2. Understanding Your Variables***"
      ],
      "metadata": {
        "id": "nA9Y7ga8ng1Z"
      }
    },
    {
      "cell_type": "code",
      "source": [
        "# Dataset Columns\n",
        "df1.columns\n"
      ],
      "metadata": {
        "id": "j7xfkqrt5Ag5"
      },
      "execution_count": null,
      "outputs": []
    },
    {
      "cell_type": "code",
      "source": [
        "# Dataset Describe\n",
        "df1.describe(include = 'all')"
      ],
      "metadata": {
        "id": "DnOaZdaE5Q5t"
      },
      "execution_count": null,
      "outputs": []
    },
    {
      "cell_type": "markdown",
      "source": [
        "### Check Unique Values for each variable."
      ],
      "metadata": {
        "id": "u3PMJOP6ngxN"
      }
    },
    {
      "cell_type": "code",
      "source": [
        "# Check Unique Values for each variable.\n",
        "for i in df1.columns.to_list():\n",
        "  print(\"No. of unique values in\",i,\"is\",df1[i].nunique(),\".\")"
      ],
      "metadata": {
        "id": "zms12Yq5n-jE"
      },
      "execution_count": null,
      "outputs": []
    },
    {
      "cell_type": "markdown",
      "source": [
        "#### Performing EDA"
      ],
      "metadata": {
        "id": "B_VWLX5ClyM7"
      }
    },
    {
      "cell_type": "markdown",
      "source": [
        " First we will find the correlation between the numerical data.\n",
        "\n",
        "\n",
        "Scolumns like 'is_cancelled', 'arrival_date_year', 'arrival_date_week_number', 'arrival_date_day_of_month', 'is_repeated_guest', 'company', 'agent' are categorical data having numerical type. So we wont need to check them for correlation.\n",
        "\n",
        "Also, we have added total_stay and total_people columns to avoid remove adults, children, babies, stays_in_weekend_nights, stays_in_week_nights columns."
      ],
      "metadata": {
        "id": "nJ-3LJUbl3a7"
      }
    },
    {
      "cell_type": "code",
      "source": [
        "corr_df = df1[['lead_time','previous_cancellations','previous_bookings_not_canceled','booking_changes','days_in_waiting_list','adr','required_car_parking_spaces','total_of_special_requests','total_stay','total_people']]\n"
      ],
      "metadata": {
        "id": "So6CITNQl2iC"
      },
      "execution_count": null,
      "outputs": []
    },
    {
      "cell_type": "code",
      "source": [
        "#correlation matrix\n",
        "corrmat = corr_df.corr()\n",
        "f, ax = plt.subplots(figsize=(12, 7))\n",
        "sns.heatmap(corrmat,annot = True,fmt='.2f', annot_kws={'size': 10},  vmax=.8, square=True);"
      ],
      "metadata": {
        "id": "YzTkD9N9mlVR"
      },
      "execution_count": null,
      "outputs": []
    },
    {
      "cell_type": "markdown",
      "source": [
        "In heatmap we observed that (total_stay,lead_time) and adr,total_people are correlated\n",
        "\n",
        "we can infer that people who stays longer book hotel little before who stays shorter\n",
        "\n",
        "and it makes sense for more number of people generates more revenue,hence more adr"
      ],
      "metadata": {
        "id": "r6L-pwWPne2r"
      }
    },
    {
      "cell_type": "markdown",
      "source": [
        "**We will check if length of stay affects adr or not !**"
      ],
      "metadata": {
        "id": "PZygFWdzpZpN"
      }
    },
    {
      "cell_type": "code",
      "source": [
        "plt.figure(figsize=(10,6))\n",
        "sns.scatterplot(x = 'total_stay',y='adr',data = df1)\n",
        "plt.show()"
      ],
      "metadata": {
        "id": "IIVGqaIrpszp"
      },
      "execution_count": null,
      "outputs": []
    },
    {
      "cell_type": "markdown",
      "source": [
        "we see an outlier , and we will remove it for better visualization"
      ],
      "metadata": {
        "id": "Ya-axPr4qKhy"
      }
    },
    {
      "cell_type": "code",
      "source": [
        "df1.drop(df1[df1['adr']>5000].index,inplace = True)"
      ],
      "metadata": {
        "id": "pjqSNN1EqV5V"
      },
      "execution_count": null,
      "outputs": []
    },
    {
      "cell_type": "code",
      "source": [
        "plt.figure(figsize = (12,6))\n",
        "sns.scatterplot(y = 'adr', x = 'total_stay', data = df1)\n",
        "plt.show()"
      ],
      "metadata": {
        "id": "V8Fai6ACqp43"
      },
      "execution_count": null,
      "outputs": []
    },
    {
      "cell_type": "markdown",
      "source": [
        "we observed that longer stays in hotel does affect adr .\n",
        "it will benficial for the customers to book for longer periods to get the most out of their wallet. "
      ],
      "metadata": {
        "id": "V2AZV7Tcqvd8"
      }
    },
    {
      "cell_type": "markdown",
      "source": [
        "** We will try to see which agent makes most no. of bookings? **"
      ],
      "metadata": {
        "id": "cTaQwuTHAZM5"
      }
    },
    {
      "cell_type": "code",
      "source": [
        "ad = pd.DataFrame(df1['agent'].value_counts()).reset_index().rename(columns = {'index':'agent','agent':'num_of_bookings'}).sort_values(by = 'num_of_bookings',ascending=False)\n",
        "ad.drop(ad[ad['agent']==0].index,inplace = True)\n",
        "ad = ad[:10]\n",
        "plt.figure(figsize=(10,6))\n",
        "sns.barplot(x = 'agent', y = 'num_of_bookings', data = ad,order = ad.sort_values('num_of_bookings', ascending = False).agent)"
      ],
      "metadata": {
        "id": "DkpY18hkAhkT"
      },
      "execution_count": null,
      "outputs": []
    },
    {
      "cell_type": "markdown",
      "source": [
        "**Ques : Which room type is in most demand and which room type generates highest adr?**"
      ],
      "metadata": {
        "id": "1MZQDwJRDyd3"
      }
    },
    {
      "cell_type": "code",
      "source": [
        "data = df1.groupby('assigned_room_type')['adr'].mean().reset_index()\n",
        "data"
      ],
      "metadata": {
        "id": "ybdzBxlPFGo6"
      },
      "execution_count": null,
      "outputs": []
    },
    {
      "cell_type": "code",
      "source": [
        "fig, axes = plt.subplots(1, 2, figsize=(15, 7))\n",
        "\n",
        "sns.countplot(ax = axes[0], x = df1['assigned_room_type'])\n",
        "sns.barplot(ax = axes[1], x = data['assigned_room_type'], y = data['adr'])\n",
        "plt.show()"
      ],
      "metadata": {
        "id": "IU-s3O6BD8JK"
      },
      "execution_count": null,
      "outputs": []
    },
    {
      "cell_type": "markdown",
      "source": [
        "Most demanded room type is A, but better adr rooms are of type H, G and F.\n",
        "\n",
        "companies should increase the number of room for room types H,G and F"
      ],
      "metadata": {
        "id": "sizw8GM5GN-6"
      }
    },
    {
      "cell_type": "markdown",
      "source": [
        "**Which meal type is most preffered meal of customers?**"
      ],
      "metadata": {
        "id": "AEMaesBRGrRO"
      }
    },
    {
      "cell_type": "code",
      "source": [
        "plt.figure( figsize=(10, 8))\n",
        "\n",
        "sns.countplot(x = df1['meal'])\n",
        "plt.show()"
      ],
      "metadata": {
        "id": "f6xMvS5mGssk"
      },
      "execution_count": null,
      "outputs": []
    },
    {
      "cell_type": "markdown",
      "source": [
        "Most preferred meal type is BB (Bed and breakfast)."
      ],
      "metadata": {
        "id": "C2nOPkjoHFh_"
      }
    },
    {
      "cell_type": "code",
      "source": [
        "df2 = df1.copy()"
      ],
      "metadata": {
        "id": "NtIESZpWIaXg"
      },
      "execution_count": null,
      "outputs": []
    },
    {
      "cell_type": "markdown",
      "source": [
        "# HOTEL WISE ANALYSIS \n"
      ],
      "metadata": {
        "id": "mKSrb80aK198"
      }
    },
    {
      "cell_type": "markdown",
      "source": [
        "**Ques :) What is the percentage of booking in each hotel?**\n",
        "\n"
      ],
      "metadata": {
        "id": "8TGaMFP2LnDL"
      }
    },
    {
      "cell_type": "code",
      "source": [
        "group_by_hotel = df1.hotel.value_counts().reset_index().rename(columns = {'index':'hotel','hotel':'% of hotel'})\n",
        "group_by_hotel['% of hotel'] = round((group_by_hotel['% of hotel']/df1.shape[0])*100,2)\n",
        "plt.figure(figsize = (8,5))\n",
        "sns.barplot(data = group_by_hotel,x = 'hotel',y = '% of hotel')\n",
        "plt.show()"
      ],
      "metadata": {
        "id": "pmFkUlrFLwk-"
      },
      "execution_count": null,
      "outputs": []
    },
    {
      "cell_type": "markdown",
      "source": [
        "It seems majority of the data are from city hotel but it does not imply that more people are booking for city hotel, it just data given is not balanced "
      ],
      "metadata": {
        "id": "zOTTquJZOWPD"
      }
    },
    {
      "cell_type": "markdown",
      "source": [
        "**Ques:) which hotel seems to make more average of average daily revenue(adr)?**"
      ],
      "metadata": {
        "id": "MKw6zimPOvcr"
      }
    },
    {
      "cell_type": "code",
      "source": [
        "group_by_hotel_adr = df1.groupby('hotel')['adr'].mean().reset_index().rename(columns = {'adr': 'avg_adr'})\n",
        "plt.figure(figsize = (8,5))\n",
        "sns.barplot(data = group_by_hotel_adr,x = 'hotel',y = 'avg_adr')\n",
        "plt.show()"
      ],
      "metadata": {
        "id": "LMFsEi40PZZa"
      },
      "execution_count": null,
      "outputs": []
    },
    {
      "cell_type": "markdown",
      "source": [
        "We can infer from the above graph that city hotel has slightly generates more revenue than Resort Hotel"
      ],
      "metadata": {
        "id": "JM9gk0YSQpL8"
      }
    },
    {
      "cell_type": "markdown",
      "source": [
        "**Ques :) Which hotel has higher lead time?**"
      ],
      "metadata": {
        "id": "8vwmeHiMRHhb"
      }
    },
    {
      "cell_type": "code",
      "source": [
        "grpby_lead = df1.groupby('hotel')['lead_time'].mean().reset_index().rename(columns = {'lead_time': 'avg_lead_time'})\n",
        "plt.figure(figsize = (8,5))\n",
        "sns.barplot(data = grpby_lead,x = 'hotel',y = 'avg_lead_time')\n",
        "plt.show()"
      ],
      "metadata": {
        "id": "SXvpo7jFRcMD"
      },
      "execution_count": null,
      "outputs": []
    },
    {
      "cell_type": "markdown",
      "source": [
        "It seems from the graph that people usually book for Resort Hotel slightly in advance than City hotel"
      ],
      "metadata": {
        "id": "Pn3JcX6-Sbdq"
      }
    },
    {
      "cell_type": "markdown",
      "source": [
        "**Ques) What is preferred stay length in each hotel?**"
      ],
      "metadata": {
        "id": "5FKh_PTdTi8i"
      }
    },
    {
      "cell_type": "code",
      "source": [
        "# creating two data for resort and city hotel each\n",
        "Resort_h = df1[(df1['hotel']=='Resort Hotel') & (df1['total_stay']<16)]\n",
        "City_h = df1[(df1['hotel']=='City Hotel')& (df1['total_stay']<16)]\n",
        "\n",
        "# create a subplot with two plots side by side\n",
        "fig, ax = plt.subplots(1, 2, figsize=(12, 5))\n",
        "\n",
        "# plot first countplot on the left\n",
        "sns.countplot(x='total_stay', data=Resort_h, ax=ax[0])\n",
        "ax[0].set_title('Total stay at Resort Hotel')\n",
        "ax[1].set_title('Total stay at City Hotel')\n",
        "\n",
        "# plot second countplot on the right\n",
        "sns.countplot(x='total_stay', data=City_h, ax=ax[1])\n",
        "# show plots\n",
        "plt.show()"
      ],
      "metadata": {
        "id": "Dqps4OuIS0sK"
      },
      "execution_count": null,
      "outputs": []
    },
    {
      "cell_type": "code",
      "source": [
        "print('The average stay at Resort Hotel is',round(Resort_h['total_stay'].mean()),'and The average stay at City Hotel is ',round(City_h['total_stay'].mean()))"
      ],
      "metadata": {
        "id": "3TA-eGGCbAcT"
      },
      "execution_count": null,
      "outputs": []
    },
    {
      "cell_type": "markdown",
      "source": [
        "In Resort Hotel we obseerve that people either choose to stay either for very short period or the entire week whereas in City Hotel they stay for on an average of 3 days"
      ],
      "metadata": {
        "id": "sTgd63tJcdtU"
      }
    },
    {
      "cell_type": "markdown",
      "source": [
        "**Which hotel has longer waiting time?**"
      ],
      "metadata": {
        "id": "l6r3jOowdNJ5"
      }
    },
    {
      "cell_type": "code",
      "source": [
        "d1 = df1.groupby('hotel')['days_in_waiting_list'].mean().reset_index()\n",
        "plt.figure(figsize = (8,5))\n",
        "sns.barplot(x = d1['hotel'], y = d1['days_in_waiting_list'] )\n",
        "plt.show()"
      ],
      "metadata": {
        "id": "Z_x5yvUpdYKT"
      },
      "execution_count": null,
      "outputs": []
    },
    {
      "cell_type": "markdown",
      "source": [
        "City Hotel has more average days in waiting list ,Hence we can infer that it is busier than resort hotel "
      ],
      "metadata": {
        "id": "O4JuPpwYd5pr"
      }
    },
    {
      "cell_type": "code",
      "source": [
        "# Selecting and counting number of cancelled bookings for each hotel.\n",
        "cancelled_data = df1[df1['is_canceled'] == 1]\n",
        "cancel_grp = cancelled_data.groupby('hotel')\n",
        "c1 = pd.DataFrame(cancel_grp.size()).rename(columns = {0:'total_cancelled_bookings'})\n"
      ],
      "metadata": {
        "id": "b7h2C0G-epzH"
      },
      "execution_count": null,
      "outputs": []
    },
    {
      "cell_type": "code",
      "source": [
        "# Counting total number of bookings for each type of hotel\n",
        "grouped_by_hotel = df1.groupby('hotel')\n",
        "total_booking = grouped_by_hotel.size()\n",
        "c2 = pd.DataFrame(total_booking).rename(columns = {0: 'total_bookings'})\n",
        "c3 = pd.concat([c1,c2], axis = 1)\n",
        "c3\n",
        "# Calculating cancel percentage \n",
        "c3['cancel_%'] = round((c3['total_cancelled_bookings']/c3['total_bookings'])*100,2)\n",
        "c3"
      ],
      "metadata": {
        "id": "QoRPbWPDizET"
      },
      "execution_count": null,
      "outputs": []
    },
    {
      "cell_type": "code",
      "source": [
        "plt.figure(figsize = (10,5))\n",
        "sns.barplot(x = c3.index, y = c3['cancel_%'])\n",
        "plt.show()"
      ],
      "metadata": {
        "id": "S7sv1r8pkDJ8"
      },
      "execution_count": null,
      "outputs": []
    },
    {
      "cell_type": "markdown",
      "source": [
        "Almost 30 % of City Hotel bookings got canceled."
      ],
      "metadata": {
        "id": "z6tXT3cmkA56"
      }
    },
    {
      "cell_type": "markdown",
      "source": [
        "Which hotel has the highest number of repeated customer?"
      ],
      "metadata": {
        "id": "QC9DqA-ultYe"
      }
    },
    {
      "cell_type": "code",
      "source": [
        "# Selecting and counting repeated customers bookings\n",
        "repeated_data = df1[df1['is_repeated_guest'] == 1]\n",
        "repeat_grp = repeated_data.groupby('hotel')\n",
        "r1 = pd.DataFrame(repeat_grp.size()).rename(columns = {0:'total_repeated_guests'})\n",
        "\n",
        "\n",
        "\n"
      ],
      "metadata": {
        "id": "Omtghch0gmbR"
      },
      "execution_count": null,
      "outputs": []
    },
    {
      "cell_type": "code",
      "source": [
        "# Counting total bookings\n",
        "total_booking = grouped_by_hotel.size()\n",
        "r2 = pd.DataFrame(total_booking).rename(columns = {0: 'total_bookings'})\n",
        "r3 = pd.concat([r1,r2], axis = 1)\n",
        "\n",
        "# Calculating repeat %\n",
        "r3['repeat_%'] = round((r3['total_repeated_guests']/r3['total_bookings'])*100,2)\n"
      ],
      "metadata": {
        "id": "tXBQMHMrll7_"
      },
      "execution_count": null,
      "outputs": []
    },
    {
      "cell_type": "code",
      "source": [
        "plt.figure(figsize = (10,5))\n",
        "sns.barplot(x = r3.index, y = r3['repeat_%'])\n",
        "plt.show()\n"
      ],
      "metadata": {
        "id": "d8Zavr4OlrmQ"
      },
      "execution_count": null,
      "outputs": []
    },
    {
      "cell_type": "markdown",
      "source": [
        "Resort Hotels has the highest number of repeated customers.The Reason may be it has the better customer service than City Hotel"
      ],
      "metadata": {
        "id": "ojjrFneXmZXv"
      }
    },
    {
      "cell_type": "markdown",
      "source": [
        "# Distribution channel analysis "
      ],
      "metadata": {
        "id": "oIyYzAWKhFet"
      }
    },
    {
      "cell_type": "markdown",
      "source": [
        "**what is the distribution of channels ?**"
      ],
      "metadata": {
        "id": "ScLLdGqgnbbk"
      }
    },
    {
      "cell_type": "code",
      "source": [
        "grp_by_dc = df1.groupby('distribution_channel')\n",
        "d1 = pd.DataFrame(round((grp_by_dc.size()/df1.shape[0])*100,2)).reset_index().rename(columns = {0:'%_of_bookings'})\n",
        "data = d1['%_of_bookings']\n",
        "labels = d1['distribution_channel']\n",
        "plt.pie(x=data, autopct=\"%.2f%%\", explode=[0.05]*5, labels=labels, pctdistance=0.5)\n",
        "plt.title(\"Booking % by distribution channels\", fontsize=14);\n"
      ],
      "metadata": {
        "id": "uRQ1N3N1iMWe"
      },
      "execution_count": null,
      "outputs": []
    },
    {
      "cell_type": "markdown",
      "source": [
        "**Which channel is most used for highest early bookings**"
      ],
      "metadata": {
        "id": "le05LdjWk1Yh"
      }
    },
    {
      "cell_type": "code",
      "source": [
        "group_by_dc = df1.groupby('distribution_channel')\n",
        "d2 = pd.DataFrame(round(group_by_dc['lead_time'].median(),2)).reset_index().rename(columns = {'lead_time': 'median_lead_time'})\n",
        "plt.figure(figsize = (8,8))\n",
        "sns.barplot(x = d2['distribution_channel'], y = d2['median_lead_time'])\n",
        "plt.show()"
      ],
      "metadata": {
        "id": "UpNAeuLimKbF"
      },
      "execution_count": null,
      "outputs": []
    },
    {
      "cell_type": "markdown",
      "source": [
        "TA/TO (Travel Agency/Tour Operator) is commonly utilized for pre-planning hotel stays, however, for unplanned trips, alternative methods tend to be more favored."
      ],
      "metadata": {
        "id": "4n8HmhF_mjQc"
      }
    },
    {
      "cell_type": "markdown",
      "source": [
        "**Which channel has longer average waiting time?**"
      ],
      "metadata": {
        "id": "H-qgYDm1nEZR"
      }
    },
    {
      "cell_type": "code",
      "source": [
        "d3 = pd.DataFrame(round((group_by_dc['days_in_waiting_list']).mean(),2)).reset_index().rename(columns = {'days_in_waiting_list': 'avg_waiting_time'})\n",
        "plt.figure(figsize = (7,5))\n",
        "sns.barplot(x = d3['distribution_channel'], y = d3['avg_waiting_time'])\n",
        "plt.show()"
      ],
      "metadata": {
        "id": "HzqX-o6ynDtR"
      },
      "execution_count": null,
      "outputs": []
    },
    {
      "cell_type": "markdown",
      "source": [
        "**Which distribution channel brings better revenue generating deals for hotels?**"
      ],
      "metadata": {
        "id": "Wqz-iQ1xniDy"
      }
    },
    {
      "cell_type": "code",
      "source": [
        "group_by_dc_hotel = df1.groupby(['distribution_channel', 'hotel'])\n",
        "d5 = pd.DataFrame(round((group_by_dc_hotel['adr']).agg(np.mean),2)).reset_index().rename(columns = {'adr': 'avg_adr'})\n",
        "plt.figure(figsize = (8,6))\n",
        "sns.barplot(x = d5['distribution_channel'], y = d5['avg_adr'], hue = d5['hotel'])\n",
        "plt.ylim(40,140)\n",
        "plt.show()"
      ],
      "metadata": {
        "id": "0i7X8GWboFfy"
      },
      "execution_count": null,
      "outputs": []
    },
    {
      "cell_type": "markdown",
      "source": [
        "City hotels have the potential to earn higher revenues from deals generated through the GDS channel, whereas most reservations for City hotels are made through TA/TO. To further enhance revenue, City hotels can work to expand their presence on GDS channels. On the other hand, Resort hotels earn more revenue from direct and TA/TO channels, but there is still room for growth by increasing outreach on the GDS channel."
      ],
      "metadata": {
        "id": "mB7WiS40oYJL"
      }
    },
    {
      "cell_type": "markdown",
      "source": [
        "# Booking cancellation Analysis "
      ],
      "metadata": {
        "id": "Y7zlE8gWo4fN"
      }
    },
    {
      "cell_type": "markdown",
      "source": [
        "Let us attempt to comprehend the reasons behind cancellations of bookings."
      ],
      "metadata": {
        "id": "D49mJG3Pp8be"
      }
    },
    {
      "cell_type": "markdown",
      "source": [
        "**What is the distribution channel with the highest percentage of cancellations?** "
      ],
      "metadata": {
        "id": "i9jfMYOgqIRH"
      }
    },
    {
      "cell_type": "code",
      "source": [
        "d1 = pd.DataFrame((group_by_dc['is_canceled'].sum()/group_by_dc.size())*100).drop(index = 'Undefined').rename(columns = {0: 'Cancel_%'})\n",
        "plt.figure(figsize = (10,5))\n",
        "sns.barplot(x = d1.index, y = d1['Cancel_%'])\n",
        "plt.show()"
      ],
      "metadata": {
        "id": "YTaOcxKSqa3x"
      },
      "execution_count": null,
      "outputs": []
    },
    {
      "cell_type": "markdown",
      "source": [
        "Travel Agencies/Tour Operators (TA/TO) have a high rate of booking cancellations, which means that reservations made through TA/TO have a likelihood of being cancelled at 30%.\n",
        "\n",
        "It is important to investigate the reasons for customer cancellations of hotel room bookings.\n",
        "\n",
        "It is possible that cancellations could be due to a longer waiting period or lead time. To examine this further, it is important to perform an analysis."
      ],
      "metadata": {
        "id": "x7PUGGNSrM8i"
      }
    },
    {
      "cell_type": "code",
      "source": [
        " # Selecting bookings with non zero waiting time\n",
        "waiting_bookings = df1[df1['days_in_waiting_list'] !=0]  \n",
        "\n",
        "\n",
        "fig, axes = plt.subplots(1, 2, figsize=(18, 8))\n",
        "sns.kdeplot(ax=axes[0],x = 'days_in_waiting_list', hue = 'is_canceled' , data = waiting_bookings)\n",
        "sns.kdeplot(ax = axes[1], x = df1['lead_time'], hue = df1['is_canceled'])\n",
        "plt.show()"
      ],
      "metadata": {
        "id": "yrZ67Lvpr8Xd"
      },
      "execution_count": null,
      "outputs": []
    },
    {
      "cell_type": "markdown",
      "source": [
        "Based on the visualization, it appears that the waiting period and lead time do not significantly impact the likelihood of a booking being cancelled. This can be seen as the distribution of cancelled and non-cancelled bookings is relatively similar for both waiting period and lead time, regardless of whether the values are below or above 150 days."
      ],
      "metadata": {
        "id": "5_EmkGQ0tFo_"
      }
    },
    {
      "cell_type": "markdown",
      "source": [
        "**Now we will check whether not getting allotted the same room type as demanded is the cause of cancellation fo bookings**\n",
        "\n"
      ],
      "metadata": {
        "id": "i2q5a2pgtcc7"
      }
    },
    {
      "cell_type": "code",
      "source": [
        "def check_room_allot(x):\n",
        "  if x['reserved_room_type'] != x['assigned_room_type']:\n",
        "    return 1\n",
        "  else:\n",
        "    return 0\n",
        "\n",
        "df1['other_room_alloted'] = df1.apply(lambda x : check_room_allot(x), axis = 1)\n",
        "grp_by_canc = df1.groupby('is_canceled')\n",
        "\n",
        "D3 = pd.DataFrame((grp_by_canc['other_room_alloted'].sum()/grp_by_canc.size())*100).rename(columns = {0: 'other_room_alloted_%'})\n",
        "plt.figure(figsize = (10,7))\n",
        "sns.barplot(x = D3.index, y = D3['other_room_alloted_%'])\n",
        "plt.show()"
      ],
      "metadata": {
        "id": "J0ibNrEdvENi"
      },
      "execution_count": null,
      "outputs": []
    },
    {
      "cell_type": "markdown",
      "source": [
        "Based on the analysis, it appears that not receiving the same room as requested is not a leading factor in the cancellation of bookings. A substantial portion of bookings are still completed even when a different room is provided."
      ],
      "metadata": {
        "id": "wIa5YTrswDvF"
      }
    },
    {
      "cell_type": "markdown",
      "source": [
        "#Ques1: From where guest are coming from all over the world?"
      ],
      "metadata": {
        "id": "LkNB5kPBpxsf"
      }
    },
    {
      "cell_type": "code",
      "source": [
        "#creating data of guest from different countries which has not been cancelled\n",
        "guest_country = df3[df3['is_canceled']==0]['country'].value_counts().reset_index()\n",
        "guest_country.columns = ['country','number_of_guests']"
      ],
      "metadata": {
        "id": "noVkUEkQqIgt"
      },
      "execution_count": null,
      "outputs": []
    },
    {
      "cell_type": "code",
      "source": [],
      "metadata": {
        "id": "--mziHMlqzrV"
      },
      "execution_count": null,
      "outputs": []
    },
    {
      "cell_type": "code",
      "source": [
        "total_guests = guest_country['number_of_guests'].sum()\n",
        "guest_country['guest_in_%'] = round(guest_country['number_of_guests']/total_guests*100,2)"
      ],
      "metadata": {
        "id": "kZdcsiYZrKyb"
      },
      "execution_count": null,
      "outputs": []
    },
    {
      "cell_type": "code",
      "source": [
        "# top 10 countries from guest came from \n",
        "guest_country_10 = guest_country.head(10)\n",
        "guest_country_10"
      ],
      "metadata": {
        "id": "ZKJJpyWzr_Jr"
      },
      "execution_count": null,
      "outputs": []
    },
    {
      "cell_type": "code",
      "source": [
        "#Bar plot of top 10 people percentage country wise\n",
        "fig, ax = plt.subplots(figsize=(10, 10))\n",
        " \n",
        "# drawing the plot\n",
        "sns.barplot(guest_country_10['country'],guest_country_10['guest_in_%'], ax=ax)\n",
        "plt.show()"
      ],
      "metadata": {
        "id": "dkEphcE5sXq7"
      },
      "execution_count": null,
      "outputs": []
    },
    {
      "cell_type": "code",
      "source": [
        "map = px.choropleth(guest_country,\n",
        "                    locations=guest_country['country'],\n",
        "                    color = guest_country['number_of_guests'],\n",
        "                    \n",
        "                    title = 'Home country of guest')\n",
        "map.show()"
      ],
      "metadata": {
        "id": "rBgmI8yhwnkH"
      },
      "execution_count": null,
      "outputs": []
    },
    {
      "cell_type": "markdown",
      "source": [
        "Exploratory Data Analysis (EDA): Study the distribution of various features such as hotel type, lead time, arrival date, etc. and identify any patterns, outliers, or anomalies.\n",
        "\n",
        "Segmentation: Divide the data into different segments based on factors such as hotel type, guest type, lead time, etc. and analyze the booking behavior in each segment.\n",
        "\n",
        "Correlation Analysis: Study the correlation between different features and the target variable (hotel booking demand) to understand which features are most impactful.\n",
        "\n",
        "Time Series Analysis: Analyze the booking demand over time to identify any seasonality or trends.\n",
        "\n",
        "Predictive Modeling: Train machine learning models such as decision trees, random forests, or XGBoost to predict hotel booking demand based on different features.\n",
        "\n",
        "Feature Importance: Use techniques such as feature importance or permutation importance to identify the most important features in the predictive models.\n",
        "\n",
        "Cost-Benefit Analysis: Study the cost and benefit of different pricing strategies based on the historical data and the predicted demand.\n",
        "\n",
        "Market Segmentation: Divide the market into different segments based on the booking behavior and analyze the demand and pricing strategy for each segment.\n",
        "\n",
        "\n",
        "\n"
      ],
      "metadata": {
        "id": "_E3DnKxCkZJA"
      }
    },
    {
      "cell_type": "markdown",
      "source": [
        "### What all manipulations have you done and insights you found?"
      ],
      "metadata": {
        "id": "MSa1f5Uengrz"
      }
    },
    {
      "cell_type": "markdown",
      "source": [
        "Answer Here."
      ],
      "metadata": {
        "id": "LbyXE7I1olp8"
      }
    },
    {
      "cell_type": "markdown",
      "source": [
        "# ques 2 . How does the price per night vary over the year?"
      ],
      "metadata": {
        "id": "KGNbsnkhhw9-"
      }
    },
    {
      "cell_type": "code",
      "source": [
        "df3 = df1.copy()"
      ],
      "metadata": {
        "id": "Dgl7rPBvwt9T"
      },
      "execution_count": null,
      "outputs": []
    },
    {
      "cell_type": "code",
      "source": [
        "#calculating adr per person \n",
        "#Assuming babies do not get charged\n",
        "df3['adr_updated'] = df3['adr']/(df3['adults'] + df3['children'])"
      ],
      "metadata": {
        "id": "mOmgH7M7k1o0"
      },
      "execution_count": null,
      "outputs": []
    },
    {
      "cell_type": "code",
      "source": [
        "resort = df3[(df3['hotel']=='Resort Hotel')&(df3['is_canceled']==0)]\n",
        "city = df3[(df3['hotel']=='City Hotel')&(df3['is_canceled']==0)]"
      ],
      "metadata": {
        "id": "kjax71kCn7Qe"
      },
      "execution_count": null,
      "outputs": []
    },
    {
      "cell_type": "code",
      "source": [
        "resort_hotel = resort.groupby(['arrival_date_month'])['adr_updated'].mean().reset_index()\n",
        "resort_hotel"
      ],
      "metadata": {
        "id": "fGo-_yVAoc2m"
      },
      "execution_count": null,
      "outputs": []
    },
    {
      "cell_type": "code",
      "source": [
        "city_hotel =city.groupby(['arrival_date_month'])['adr_updated'].mean().reset_index()\n",
        "city_hotel"
      ],
      "metadata": {
        "id": "-F9TZ_P5oxXG"
      },
      "execution_count": null,
      "outputs": []
    },
    {
      "cell_type": "code",
      "source": [
        "final = resort_hotel.merge(city_hotel,on = 'arrival_date_month')\n",
        "final.columns=['month','price_for_resort','price_for_city_hotel']\n",
        "final"
      ],
      "metadata": {
        "id": "7IqDoUm_pG43"
      },
      "execution_count": null,
      "outputs": []
    },
    {
      "cell_type": "code",
      "source": [
        "# Define the order of the months\n",
        "months = ['January', 'February', 'March', 'April', 'May', 'June', 'July', 'August', 'September', 'October', 'November', 'December']\n",
        "\n",
        "# Convert the text month to a categorical type with the predefined order\n",
        "final['month'] = pd.Categorical(final['month'], categories=months, ordered=True)\n",
        "\n",
        "# Sort the DataFrame by the categorical month column\n",
        "final.sort_values(by='month', inplace=True)\n",
        "\n",
        "# Reset the index of the DataFrame\n",
        "final.reset_index(drop=True, inplace=True)\n",
        "final"
      ],
      "metadata": {
        "id": "LSSx3SLbqYrX"
      },
      "execution_count": null,
      "outputs": []
    },
    {
      "cell_type": "code",
      "source": [
        "px.line(final,x='month',y = ['price_for_resort','price_for_city_hotel'],title = 'Room price per night over the month')"
      ],
      "metadata": {
        "id": "J5r-atlsvfiX"
      },
      "execution_count": null,
      "outputs": []
    },
    {
      "cell_type": "markdown",
      "source": [
        "The average daily rate (ADR) seems to follow a pattern where it increases from the start of the year, reaching a peak in August, before declining towards the end of the year. However, it is noted that there are still some opportunities for hotels to secure high ADR deals towards the end of the year."
      ],
      "metadata": {
        "id": "ztYgvyHT0AjB"
      }
    },
    {
      "cell_type": "markdown",
      "source": [
        "**In order to understand the ADR trend, it is important to examine the busiest months as there is a hypothesis that higher demand may lead to a higher ADR. Let's investigate this further.**"
      ],
      "metadata": {
        "id": "yss1RtajzoYS"
      }
    },
    {
      "cell_type": "code",
      "source": [
        "resort_hotel = resort.arrival_date_month.value_counts().reset_index()\n",
        "resort_hotel\n",
        "\n",
        "city_hotel = city.arrival_date_month.value_counts().reset_index()\n",
        "city_hotel\n",
        "\n",
        "final = resort_hotel.merge(city_hotel,on = 'index')\n",
        "final.columns=['month','resort_num','city_num']\n",
        "final\n",
        "\n",
        "# Define the order of the months\n",
        "months = ['January', 'February', 'March', 'April', 'May', 'June', 'July', 'August', 'September', 'October', 'November', 'December']\n",
        "\n",
        "# Convert the text month to a categorical type with the predefined order\n",
        "final['month'] = pd.Categorical(final['month'], categories=months, ordered=True)\n",
        "\n",
        "# Sort the DataFrame by the categorical month column\n",
        "final.sort_values(by='month', inplace=True)\n",
        "\n",
        "# Reset the index of the DataFrame\n",
        "final.reset_index(drop=True, inplace=True)\n",
        "final\n",
        "\n",
        "px.line(final,x='month',y = ['resort_num','city_num'],title = 'Number of people arriving at various months ')\n"
      ],
      "metadata": {
        "id": "XcexbMJz0qs1"
      },
      "execution_count": null,
      "outputs": []
    },
    {
      "cell_type": "markdown",
      "source": [
        "Thus, our hypothesis was confirmed that the high demand during July and August contributes to the high average daily rate (ADR)."
      ],
      "metadata": {
        "id": "mIPuzh_n5IXe"
      }
    },
    {
      "cell_type": "markdown",
      "source": [
        "## **5. Solution to Business Objective**"
      ],
      "metadata": {
        "id": "JcMwzZxoAimU"
      }
    },
    {
      "cell_type": "markdown",
      "source": [
        "#### What do you suggest the client to achieve Business Objective ? \n",
        "Explain Briefly."
      ],
      "metadata": {
        "id": "8G2x9gOozGDZ"
      }
    },
    {
      "cell_type": "markdown",
      "source": [
        "Answer Here."
      ],
      "metadata": {
        "id": "pASKb0qOza21"
      }
    },
    {
      "cell_type": "markdown",
      "source": [
        "# **Conclusion**"
      ],
      "metadata": {
        "id": "gCX9965dhzqZ"
      }
    },
    {
      "cell_type": "markdown",
      "source": [
        "Write the conclusion here."
      ],
      "metadata": {
        "id": "Fjb1IsQkh3yE"
      }
    },
    {
      "cell_type": "markdown",
      "source": [
        "### ***Hurrah! You have successfully completed your EDA Capstone Project !!!***"
      ],
      "metadata": {
        "id": "gIfDvo9L0UH2"
      }
    }
  ]
}